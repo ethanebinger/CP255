{
 "cells": [
  {
   "cell_type": "markdown",
   "metadata": {},
   "source": [
    "# CYPLAN 255 Project\n",
    "\n",
    "## Using Open-Source Bike Share Trip Data to Inform Social Distancing Street Closures\n",
    "\n",
    "Due to the ongoing circumstances regarding COVID-19 Bay Area jurisdictions and state of California have mandated residents shelter-in-place. For those that go outside it is recommended that people follow social distancing guidelines that suggest people remain 6 feet away from each other to avoid further spread of the novel coronavirus. However, this can often be difficult in many built environments where the space allocated to vehicles dwarfs the width of the sidewalk.\n",
    "\n",
    "<img src=\"../img/tingvall-201411.jpg\" />\n",
    "\n",
    "![](../img/tingval-201411.jpg)<div align=\"center\">*Pedestrian road space, by Claes Tingvall of the Swedish Road Administration. [Source](https://ggwash.org/view/36573/to-a-pedestrian-a-roads-a-tiny-space-with-danger-just-beside)*.</div>\n",
    "\n",
    "To encourage social distancing [many cities around the world](https://www.theguardian.com/world/2020/apr/11/world-cities-turn-their-streets-over-to-walkers-and-cyclists) have converted road space from automotive traffic to pedestrians and bicyclists. Although many of these are just temporary closures, the increased space for non-vehicular travel is allowing residents to get exercise, fresh air, and access still-open essential buildings in a more sustainable way.\n",
    "\n",
    "Oakland has been receptive to these needs and recently [identified 74 miles of streets](https://sf.streetsblog.org/2020/04/10/oakland-to-open-74-miles-of-streets-for-safe-biking-and-recreation/) to be cordoned off for non-automotive travel. Not all cities in the Bay Area are following suit though. Despite the decrease in vehicular travel and the need for increased sidewalk space [San Francisco has not closed streets](https://sf.streetsblog.org/2020/03/30/people-desperate-for-space-but-so-far-bay-area-officials-wont-open-streets/) and a [letter](https://docs.google.com/document/u/1/d/e/2PACX-1vQQkbtEb3s0bfUMcLUMeu1Oa4OWnmxK9hsRLIRfw3PznZYCsc7kpUZ9pjpHS1La9PWUswL7q9LGVG7q/pub) and [petition](https://docs.google.com/forms/d/e/1FAIpQLSdIXHpAjaZVu9hTSbRgx7z5YAtl3ZiNsJTw3WA3-awvywsd9w/viewform) to repurpose Berkeley’s bicycle boulevards has yet to gain traction.\n",
    "\n",
    "This project builds on the need for additional street closures to create safe streets in the Bay Area during the pandemic. I use open-source bike share data from BayWheels to identify the most frequented biking paths by system users. Together with maps of existing and planned bicycle facilities these routes can serve as recommendations for jurisdictions in the Bay Area that are looking to close streets to vehicular traffic to promote social distancing.\n",
    "\n",
    "### `0_Process_BayWheels_Trips`\n",
    "\n",
    "**Datasets used:**\n",
    "* [System data](https://www.lyft.com/bikes/bay-wheels/system-data) from Bay Wheels. We process only trips from February 2020 because it is the latest dataset available (most current station layout and trip flows).\n",
    "* [Regional bicycle facilities](http://opendata.mtc.ca.gov/datasets/regional-bike-facilities?geometry=-122.400%2C37.800%2C-122.144%2C37.847) in the Bay Area. From the Metropolitan Transportation Commission.\n",
    "* [Census boundaries](https://www.census.gov/geographies/mapping-files/time-series/geo/carto-boundary-file.html) for California, including polygons for the state outline, census-designated places, and tracts.\n",
    "\n",
    "**Notebook summary:**\n",
    "* 0.0 - Import packages\n",
    "* 0.1 - Import data\n",
    "* 0.2 - Clean up the origin-destination trip pairs\n",
    "* 0.3 - Identify unique stations in the dataset\n",
    "    * Create geospatial dataframe with lat,lon of stations\n",
    "* 0.4 - Label stations by region\n",
    "    * Create geospatial dataframe with bounding boxes for each region\n",
    "* 0.5 - Use OSMnx to get routes between each origin-destination trip pair\n",
    "    * Load bicycle route networks from OpenStreetMap API using OSMnx\n",
    "    * Convert station lat,lon coordinates into OSM nodes\n",
    "    * Use OSM nodes to query shortest path routes using NetworkX\n",
    "    * Update trips dataframe with routes\n",
    "* 0.6 - Expand trips datafram\n",
    "* 0.7 - Save data to file\n",
    "\n",
    "**Additional reading:**\n",
    "* \"As New Yorkers seek open space, city will cut short car-free streets pilot\" from [curbed.com](https://ny.curbed.com/2020/4/6/21209462/nyc-car-free-streets-coronavirus-bill-de-blasio)\n",
    "* \"How to open streets right during social distancing\" from [streetsblog.org](https://usa.streetsblog.org/2020/04/08/how-to-open-streets-right-during-social-distancing)\n",
    "* \"NYC car-free streets pilot cut short\" from [curbed.com](https://ny.curbed.com/2020/4/6/21209462/nyc-car-free-streets-coronavirus-bill-de-blasio)\n",
    "* [This](https://twitter.com/jen_keesmaat/status/1248972266156720131) and other tweets by former Toronto Chief Planner Jennifer Keesmaat [@jen_keesmaat](https://twitter.com/jen_keesmaat)"
   ]
  },
  {
   "cell_type": "markdown",
   "metadata": {},
   "source": [
    "## 0.0 Initialize notebook"
   ]
  },
  {
   "cell_type": "code",
   "execution_count": 1,
   "metadata": {},
   "outputs": [],
   "source": [
    "import numpy as np\n",
    "import pandas as pd\n",
    "import geopandas as gpd\n",
    "import matplotlib.pyplot as plt"
   ]
  },
  {
   "cell_type": "markdown",
   "metadata": {},
   "source": [
    "## 0.1 Load data"
   ]
  },
  {
   "cell_type": "code",
   "execution_count": 19,
   "metadata": {},
   "outputs": [],
   "source": [
    "# load raw trip data\n",
    "trips = pd.read_csv(\"../data/202002-baywheels-tripdata.csv\", low_memory=False)"
   ]
  },
  {
   "cell_type": "code",
   "execution_count": 20,
   "metadata": {},
   "outputs": [],
   "source": [
    "# load census boundaries\n",
    "outlines = gpd.read_file(\"zip://../data/cb_2016_us_state_500k.zip\")\n",
    "outlines = outlines.loc[outlines.GEOID==\"06\"]"
   ]
  },
  {
   "cell_type": "markdown",
   "metadata": {},
   "source": [
    "## 0.2 Clean up the OD trip table\n",
    "\n",
    "Lets fist take a look at the data and remove it of any illogical trips."
   ]
  },
  {
   "cell_type": "code",
   "execution_count": 21,
   "metadata": {},
   "outputs": [
    {
     "name": "stdout",
     "output_type": "stream",
     "text": [
      "<class 'pandas.core.frame.DataFrame'>\n",
      "RangeIndex: 432354 entries, 0 to 432353\n",
      "Data columns (total 14 columns):\n",
      " #   Column                   Non-Null Count   Dtype  \n",
      "---  ------                   --------------   -----  \n",
      " 0   duration_sec             432354 non-null  int64  \n",
      " 1   start_time               432354 non-null  object \n",
      " 2   end_time                 432354 non-null  object \n",
      " 3   start_station_id         161723 non-null  float64\n",
      " 4   start_station_name       161723 non-null  object \n",
      " 5   start_station_latitude   432354 non-null  float64\n",
      " 6   start_station_longitude  432354 non-null  float64\n",
      " 7   end_station_id           162194 non-null  float64\n",
      " 8   end_station_name         162194 non-null  object \n",
      " 9   end_station_latitude     432354 non-null  float64\n",
      " 10  end_station_longitude    432354 non-null  float64\n",
      " 11  bike_id                  432354 non-null  int64  \n",
      " 12  user_type                432354 non-null  object \n",
      " 13  rental_access_method     317843 non-null  object \n",
      "dtypes: float64(6), int64(2), object(6)\n",
      "memory usage: 46.2+ MB\n"
     ]
    }
   ],
   "source": [
    "trips.info()"
   ]
  },
  {
   "cell_type": "code",
   "execution_count": 22,
   "metadata": {},
   "outputs": [
    {
     "data": {
      "text/html": [
       "<div>\n",
       "<style scoped>\n",
       "    .dataframe tbody tr th:only-of-type {\n",
       "        vertical-align: middle;\n",
       "    }\n",
       "\n",
       "    .dataframe tbody tr th {\n",
       "        vertical-align: top;\n",
       "    }\n",
       "\n",
       "    .dataframe thead th {\n",
       "        text-align: right;\n",
       "    }\n",
       "</style>\n",
       "<table border=\"1\" class=\"dataframe\">\n",
       "  <thead>\n",
       "    <tr style=\"text-align: right;\">\n",
       "      <th></th>\n",
       "      <th>duration_sec</th>\n",
       "      <th>start_time</th>\n",
       "      <th>end_time</th>\n",
       "      <th>start_station_id</th>\n",
       "      <th>start_station_name</th>\n",
       "      <th>start_station_latitude</th>\n",
       "      <th>start_station_longitude</th>\n",
       "      <th>end_station_id</th>\n",
       "      <th>end_station_name</th>\n",
       "      <th>end_station_latitude</th>\n",
       "      <th>end_station_longitude</th>\n",
       "      <th>bike_id</th>\n",
       "      <th>user_type</th>\n",
       "      <th>rental_access_method</th>\n",
       "    </tr>\n",
       "  </thead>\n",
       "  <tbody>\n",
       "    <tr>\n",
       "      <th>0</th>\n",
       "      <td>62083</td>\n",
       "      <td>2020-02-29 18:32:30.5750</td>\n",
       "      <td>2020-03-01 11:47:14.0850</td>\n",
       "      <td>176.0</td>\n",
       "      <td>MacArthur BART Station</td>\n",
       "      <td>37.828410</td>\n",
       "      <td>-122.266315</td>\n",
       "      <td>267.0</td>\n",
       "      <td>Derby St at College Ave</td>\n",
       "      <td>37.861804</td>\n",
       "      <td>-122.253569</td>\n",
       "      <td>1993</td>\n",
       "      <td>Customer</td>\n",
       "      <td>NaN</td>\n",
       "    </tr>\n",
       "    <tr>\n",
       "      <th>1</th>\n",
       "      <td>1364</td>\n",
       "      <td>2020-02-29 23:53:53.7190</td>\n",
       "      <td>2020-03-01 00:16:37.9720</td>\n",
       "      <td>375.0</td>\n",
       "      <td>Grove St at Masonic Ave</td>\n",
       "      <td>37.774836</td>\n",
       "      <td>-122.446546</td>\n",
       "      <td>506.0</td>\n",
       "      <td>7th Ave at Clement St</td>\n",
       "      <td>37.782439</td>\n",
       "      <td>-122.465377</td>\n",
       "      <td>12402</td>\n",
       "      <td>Customer</td>\n",
       "      <td>NaN</td>\n",
       "    </tr>\n",
       "    <tr>\n",
       "      <th>2</th>\n",
       "      <td>836</td>\n",
       "      <td>2020-02-29 23:54:03.1970</td>\n",
       "      <td>2020-03-01 00:07:59.8490</td>\n",
       "      <td>375.0</td>\n",
       "      <td>Grove St at Masonic Ave</td>\n",
       "      <td>37.774836</td>\n",
       "      <td>-122.446546</td>\n",
       "      <td>454.0</td>\n",
       "      <td>7th Ave at Cabrillo St</td>\n",
       "      <td>37.775176</td>\n",
       "      <td>-122.465007</td>\n",
       "      <td>2302</td>\n",
       "      <td>Customer</td>\n",
       "      <td>NaN</td>\n",
       "    </tr>\n",
       "    <tr>\n",
       "      <th>3</th>\n",
       "      <td>1004</td>\n",
       "      <td>2020-02-29 23:48:34.6480</td>\n",
       "      <td>2020-03-01 00:05:19.2020</td>\n",
       "      <td>179.0</td>\n",
       "      <td>Telegraph Ave at 27th St</td>\n",
       "      <td>37.816073</td>\n",
       "      <td>-122.267886</td>\n",
       "      <td>200.0</td>\n",
       "      <td>2nd Ave at E 18th St</td>\n",
       "      <td>37.800214</td>\n",
       "      <td>-122.253810</td>\n",
       "      <td>902</td>\n",
       "      <td>Customer</td>\n",
       "      <td>NaN</td>\n",
       "    </tr>\n",
       "    <tr>\n",
       "      <th>4</th>\n",
       "      <td>1007</td>\n",
       "      <td>2020-02-29 23:48:25.9000</td>\n",
       "      <td>2020-03-01 00:05:13.4490</td>\n",
       "      <td>179.0</td>\n",
       "      <td>Telegraph Ave at 27th St</td>\n",
       "      <td>37.816073</td>\n",
       "      <td>-122.267886</td>\n",
       "      <td>200.0</td>\n",
       "      <td>2nd Ave at E 18th St</td>\n",
       "      <td>37.800214</td>\n",
       "      <td>-122.253810</td>\n",
       "      <td>11578</td>\n",
       "      <td>Customer</td>\n",
       "      <td>NaN</td>\n",
       "    </tr>\n",
       "  </tbody>\n",
       "</table>\n",
       "</div>"
      ],
      "text/plain": [
       "   duration_sec                start_time                  end_time  \\\n",
       "0         62083  2020-02-29 18:32:30.5750  2020-03-01 11:47:14.0850   \n",
       "1          1364  2020-02-29 23:53:53.7190  2020-03-01 00:16:37.9720   \n",
       "2           836  2020-02-29 23:54:03.1970  2020-03-01 00:07:59.8490   \n",
       "3          1004  2020-02-29 23:48:34.6480  2020-03-01 00:05:19.2020   \n",
       "4          1007  2020-02-29 23:48:25.9000  2020-03-01 00:05:13.4490   \n",
       "\n",
       "   start_station_id        start_station_name  start_station_latitude  \\\n",
       "0             176.0    MacArthur BART Station               37.828410   \n",
       "1             375.0   Grove St at Masonic Ave               37.774836   \n",
       "2             375.0   Grove St at Masonic Ave               37.774836   \n",
       "3             179.0  Telegraph Ave at 27th St               37.816073   \n",
       "4             179.0  Telegraph Ave at 27th St               37.816073   \n",
       "\n",
       "   start_station_longitude  end_station_id         end_station_name  \\\n",
       "0              -122.266315           267.0  Derby St at College Ave   \n",
       "1              -122.446546           506.0    7th Ave at Clement St   \n",
       "2              -122.446546           454.0   7th Ave at Cabrillo St   \n",
       "3              -122.267886           200.0     2nd Ave at E 18th St   \n",
       "4              -122.267886           200.0     2nd Ave at E 18th St   \n",
       "\n",
       "   end_station_latitude  end_station_longitude  bike_id user_type  \\\n",
       "0             37.861804            -122.253569     1993  Customer   \n",
       "1             37.782439            -122.465377    12402  Customer   \n",
       "2             37.775176            -122.465007     2302  Customer   \n",
       "3             37.800214            -122.253810      902  Customer   \n",
       "4             37.800214            -122.253810    11578  Customer   \n",
       "\n",
       "  rental_access_method  \n",
       "0                  NaN  \n",
       "1                  NaN  \n",
       "2                  NaN  \n",
       "3                  NaN  \n",
       "4                  NaN  "
      ]
     },
     "execution_count": 22,
     "metadata": {},
     "output_type": "execute_result"
    }
   ],
   "source": [
    "trips.head()"
   ]
  },
  {
   "cell_type": "markdown",
   "metadata": {},
   "source": [
    "Illogical trips are routes that take too long or start and end in the same location. Although many bike share riders may take roundtrips, whether for leisure or for errands that require returning to the point of origin, these routes cannot be processed later and can be dropped from the dataset. This dataset is saved so this processing does not need to be done in later notebooks."
   ]
  },
  {
   "cell_type": "code",
   "execution_count": 23,
   "metadata": {},
   "outputs": [
    {
     "data": {
      "text/plain": [
       "3922.0"
      ]
     },
     "execution_count": 23,
     "metadata": {},
     "output_type": "execute_result"
    }
   ],
   "source": [
    "# Get reasonable upper bound of trips\n",
    "trips.duration_sec.quantile(0.99)"
   ]
  },
  {
   "cell_type": "code",
   "execution_count": 24,
   "metadata": {},
   "outputs": [],
   "source": [
    "# So 99% of trips are under one hour. Let's drop all trips that are longer \n",
    "# from the dataset because they are likely circuitious or erroneous.\n",
    "trips = trips.loc[trips.duration_sec <= trips.duration_sec.quantile(0.99)]\n",
    "\n",
    "# Drop all trips that start and end in the same location.\n",
    "trips = trips.loc[trips.start_station_id != trips.end_station_id]"
   ]
  },
  {
   "cell_type": "markdown",
   "metadata": {},
   "source": [
    "Now that we have a cleaner dataframe we can group by origin-destination pair. This is not a necessary step but because this dataset is so large it will help to compress it here by dropping extraneous columns and grouping trips by their start and end locations. Below the data is grouped by start and end id, with the coordinates preserved."
   ]
  },
  {
   "cell_type": "code",
   "execution_count": 25,
   "metadata": {},
   "outputs": [
    {
     "data": {
      "text/html": [
       "<div>\n",
       "<style scoped>\n",
       "    .dataframe tbody tr th:only-of-type {\n",
       "        vertical-align: middle;\n",
       "    }\n",
       "\n",
       "    .dataframe tbody tr th {\n",
       "        vertical-align: top;\n",
       "    }\n",
       "\n",
       "    .dataframe thead th {\n",
       "        text-align: right;\n",
       "    }\n",
       "</style>\n",
       "<table border=\"1\" class=\"dataframe\">\n",
       "  <thead>\n",
       "    <tr style=\"text-align: right;\">\n",
       "      <th></th>\n",
       "      <th>start_station_id</th>\n",
       "      <th>end_station_id</th>\n",
       "      <th>count</th>\n",
       "      <th>start_station_name</th>\n",
       "      <th>start_station_latitude</th>\n",
       "      <th>start_station_longitude</th>\n",
       "      <th>end_station_name</th>\n",
       "      <th>end_station_latitude</th>\n",
       "      <th>end_station_longitude</th>\n",
       "    </tr>\n",
       "  </thead>\n",
       "  <tbody>\n",
       "    <tr>\n",
       "      <th>0</th>\n",
       "      <td>3.0</td>\n",
       "      <td>4.0</td>\n",
       "      <td>5</td>\n",
       "      <td>Powell St BART Station (Market St at 4th St)</td>\n",
       "      <td>37.786375</td>\n",
       "      <td>-122.404904</td>\n",
       "      <td>Cyril Magnin St at Ellis St</td>\n",
       "      <td>37.785881</td>\n",
       "      <td>-122.408915</td>\n",
       "    </tr>\n",
       "    <tr>\n",
       "      <th>1</th>\n",
       "      <td>3.0</td>\n",
       "      <td>5.0</td>\n",
       "      <td>25</td>\n",
       "      <td>Powell St BART Station (Market St at 4th St)</td>\n",
       "      <td>37.786375</td>\n",
       "      <td>-122.404904</td>\n",
       "      <td>Powell St BART Station (Market St at 5th St)</td>\n",
       "      <td>37.783899</td>\n",
       "      <td>-122.408445</td>\n",
       "    </tr>\n",
       "    <tr>\n",
       "      <th>2</th>\n",
       "      <td>3.0</td>\n",
       "      <td>6.0</td>\n",
       "      <td>9</td>\n",
       "      <td>Powell St BART Station (Market St at 4th St)</td>\n",
       "      <td>37.786375</td>\n",
       "      <td>-122.404904</td>\n",
       "      <td>The Embarcadero at Sansome St</td>\n",
       "      <td>37.804770</td>\n",
       "      <td>-122.403234</td>\n",
       "    </tr>\n",
       "    <tr>\n",
       "      <th>3</th>\n",
       "      <td>3.0</td>\n",
       "      <td>8.0</td>\n",
       "      <td>4</td>\n",
       "      <td>Powell St BART Station (Market St at 4th St)</td>\n",
       "      <td>37.786375</td>\n",
       "      <td>-122.404904</td>\n",
       "      <td>The Embarcadero at Vallejo St</td>\n",
       "      <td>37.799953</td>\n",
       "      <td>-122.398525</td>\n",
       "    </tr>\n",
       "    <tr>\n",
       "      <th>4</th>\n",
       "      <td>3.0</td>\n",
       "      <td>9.0</td>\n",
       "      <td>3</td>\n",
       "      <td>Powell St BART Station (Market St at 4th St)</td>\n",
       "      <td>37.786375</td>\n",
       "      <td>-122.404904</td>\n",
       "      <td>Broadway at Battery St</td>\n",
       "      <td>37.798572</td>\n",
       "      <td>-122.400869</td>\n",
       "    </tr>\n",
       "  </tbody>\n",
       "</table>\n",
       "</div>"
      ],
      "text/plain": [
       "   start_station_id  end_station_id  count  \\\n",
       "0               3.0             4.0      5   \n",
       "1               3.0             5.0     25   \n",
       "2               3.0             6.0      9   \n",
       "3               3.0             8.0      4   \n",
       "4               3.0             9.0      3   \n",
       "\n",
       "                             start_station_name  start_station_latitude  \\\n",
       "0  Powell St BART Station (Market St at 4th St)               37.786375   \n",
       "1  Powell St BART Station (Market St at 4th St)               37.786375   \n",
       "2  Powell St BART Station (Market St at 4th St)               37.786375   \n",
       "3  Powell St BART Station (Market St at 4th St)               37.786375   \n",
       "4  Powell St BART Station (Market St at 4th St)               37.786375   \n",
       "\n",
       "   start_station_longitude                              end_station_name  \\\n",
       "0              -122.404904                   Cyril Magnin St at Ellis St   \n",
       "1              -122.404904  Powell St BART Station (Market St at 5th St)   \n",
       "2              -122.404904                 The Embarcadero at Sansome St   \n",
       "3              -122.404904                 The Embarcadero at Vallejo St   \n",
       "4              -122.404904                        Broadway at Battery St   \n",
       "\n",
       "   end_station_latitude  end_station_longitude  \n",
       "0             37.785881            -122.408915  \n",
       "1             37.783899            -122.408445  \n",
       "2             37.804770            -122.403234  \n",
       "3             37.799953            -122.398525  \n",
       "4             37.798572            -122.400869  "
      ]
     },
     "execution_count": 25,
     "metadata": {},
     "output_type": "execute_result"
    }
   ],
   "source": [
    "# Group trips by Origin-Destination pair\n",
    "trips = trips.groupby([\"start_station_id\", \"end_station_id\"]).agg({'start_time':'count',\n",
    "                                                                   'start_station_name': 'first',\n",
    "                                                                   'start_station_latitude': 'first',\n",
    "                                                                   'start_station_longitude': 'first',\n",
    "                                                                   'end_station_name': 'first',\n",
    "                                                                   'end_station_latitude': 'first',\n",
    "                                                                   'end_station_longitude': 'first'})\n",
    "# Reset index and rename column with count data\n",
    "trips.reset_index(inplace=True)\n",
    "trips.rename(columns={\"start_time\": \"count\"}, inplace=True)\n",
    "\n",
    "# Display aggregated dataframe\n",
    "trips.head()"
   ]
  },
  {
   "cell_type": "markdown",
   "metadata": {},
   "source": [
    "## 0.3 Get unique stations from trip table\n",
    "\n",
    "In order to map this data I need to create a geodataframe from the dataframe. To do this the data does not need to be in origin-destination format, but rather a dataframe of unique stations.\n",
    "\n",
    "Below the trips are sorted by start and end id, then joined together to get a long form of the trips table. The `.dropna` and `.drop_duplicates` methods are applied to remove duplicates from the dataset.\n",
    "\n",
    "Lastly, the shortened dataframe is converted into a geodataframe by assigning the `lat` and `lon` fields as the geometry."
   ]
  },
  {
   "cell_type": "code",
   "execution_count": 10,
   "metadata": {},
   "outputs": [
    {
     "data": {
      "text/html": [
       "<div>\n",
       "<style scoped>\n",
       "    .dataframe tbody tr th:only-of-type {\n",
       "        vertical-align: middle;\n",
       "    }\n",
       "\n",
       "    .dataframe tbody tr th {\n",
       "        vertical-align: top;\n",
       "    }\n",
       "\n",
       "    .dataframe thead th {\n",
       "        text-align: right;\n",
       "    }\n",
       "</style>\n",
       "<table border=\"1\" class=\"dataframe\">\n",
       "  <thead>\n",
       "    <tr style=\"text-align: right;\">\n",
       "      <th></th>\n",
       "      <th>station_id</th>\n",
       "      <th>name</th>\n",
       "      <th>lat</th>\n",
       "      <th>lon</th>\n",
       "      <th>geometry</th>\n",
       "    </tr>\n",
       "  </thead>\n",
       "  <tbody>\n",
       "    <tr>\n",
       "      <th>0</th>\n",
       "      <td>3.0</td>\n",
       "      <td>Powell St BART Station (Market St at 4th St)</td>\n",
       "      <td>37.786375</td>\n",
       "      <td>-122.404904</td>\n",
       "      <td>POINT (-122.40490 37.78638)</td>\n",
       "    </tr>\n",
       "    <tr>\n",
       "      <th>155</th>\n",
       "      <td>4.0</td>\n",
       "      <td>Cyril Magnin St at Ellis St</td>\n",
       "      <td>37.785881</td>\n",
       "      <td>-122.408915</td>\n",
       "      <td>POINT (-122.40892 37.78588)</td>\n",
       "    </tr>\n",
       "    <tr>\n",
       "      <th>241</th>\n",
       "      <td>5.0</td>\n",
       "      <td>Powell St BART Station (Market St at 5th St)</td>\n",
       "      <td>37.783899</td>\n",
       "      <td>-122.408445</td>\n",
       "      <td>POINT (-122.40844 37.78390)</td>\n",
       "    </tr>\n",
       "    <tr>\n",
       "      <th>391</th>\n",
       "      <td>6.0</td>\n",
       "      <td>The Embarcadero at Sansome St</td>\n",
       "      <td>37.804770</td>\n",
       "      <td>-122.403234</td>\n",
       "      <td>POINT (-122.40323 37.80477)</td>\n",
       "    </tr>\n",
       "    <tr>\n",
       "      <th>466</th>\n",
       "      <td>7.0</td>\n",
       "      <td>Frank H Ogawa Plaza</td>\n",
       "      <td>37.804562</td>\n",
       "      <td>-122.271738</td>\n",
       "      <td>POINT (-122.27174 37.80456)</td>\n",
       "    </tr>\n",
       "  </tbody>\n",
       "</table>\n",
       "</div>"
      ],
      "text/plain": [
       "     station_id                                          name        lat  \\\n",
       "0           3.0  Powell St BART Station (Market St at 4th St)  37.786375   \n",
       "155         4.0                   Cyril Magnin St at Ellis St  37.785881   \n",
       "241         5.0  Powell St BART Station (Market St at 5th St)  37.783899   \n",
       "391         6.0                 The Embarcadero at Sansome St  37.804770   \n",
       "466         7.0                           Frank H Ogawa Plaza  37.804562   \n",
       "\n",
       "            lon                     geometry  \n",
       "0   -122.404904  POINT (-122.40490 37.78638)  \n",
       "155 -122.408915  POINT (-122.40892 37.78588)  \n",
       "241 -122.408445  POINT (-122.40844 37.78390)  \n",
       "391 -122.403234  POINT (-122.40323 37.80477)  \n",
       "466 -122.271738  POINT (-122.27174 37.80456)  "
      ]
     },
     "execution_count": 10,
     "metadata": {},
     "output_type": "execute_result"
    }
   ],
   "source": [
    "# subset data for only origins and relevant columns\n",
    "trips_start = trips[['start_station_id', 'start_station_name', 'start_station_latitude', 'start_station_longitude']]\n",
    "trips_start.columns = ['station_id', 'name', 'lat', 'lon']\n",
    "\n",
    "# subset data for only destinations and relevant columns\n",
    "trips_end = trips[['end_station_id', 'end_station_name', 'end_station_latitude', 'end_station_longitude']]\n",
    "trips_end.columns = ['station_id', 'name', 'lat', 'lon']\n",
    "\n",
    "# drop extra columns from main trips dataframe now that they are no longer needed\n",
    "trips = trips[['start_station_id','end_station_id','count']].copy()\n",
    "\n",
    "# join origins and destinations, filter to only include unique/non-null values\n",
    "stations = trips_start.append(trips_end)\n",
    "stations.dropna(inplace=True)\n",
    "stations.drop_duplicates(inplace=True)\n",
    "\n",
    "# turn data into geospatial dataframe\n",
    "stations = gpd.GeoDataFrame(stations, geometry=gpd.points_from_xy(stations.lon, stations.lat))\n",
    "\n",
    "# view gdf\n",
    "stations.head()"
   ]
  },
  {
   "cell_type": "code",
   "execution_count": 11,
   "metadata": {},
   "outputs": [
    {
     "data": {
      "text/plain": [
       "<matplotlib.axes._subplots.AxesSubplot at 0x1e152521fc8>"
      ]
     },
     "execution_count": 11,
     "metadata": {},
     "output_type": "execute_result"
    },
    {
     "data": {
      "image/png": "[encoded data removed]",
      "text/plain": [
       "<Figure size 648x648 with 1 Axes>"
      ]
     },
     "metadata": {
      "needs_background": "light"
     },
     "output_type": "display_data"
    }
   ],
   "source": [
    "# plot gdf\n",
    "stations.plot(figsize=(9,9))"
   ]
  },
  {
   "cell_type": "markdown",
   "metadata": {},
   "source": [
    "Ok, so we did not drop all erroneous locations. It appears that some stations have coordinates at (0,0) which is definitely not in the Bay Area. They are manually dropped them from the geodataframe below."
   ]
  },
  {
   "cell_type": "code",
   "execution_count": 12,
   "metadata": {},
   "outputs": [
    {
     "data": {
      "text/html": [
       "<div>\n",
       "<style scoped>\n",
       "    .dataframe tbody tr th:only-of-type {\n",
       "        vertical-align: middle;\n",
       "    }\n",
       "\n",
       "    .dataframe tbody tr th {\n",
       "        vertical-align: top;\n",
       "    }\n",
       "\n",
       "    .dataframe thead th {\n",
       "        text-align: right;\n",
       "    }\n",
       "</style>\n",
       "<table border=\"1\" class=\"dataframe\">\n",
       "  <thead>\n",
       "    <tr style=\"text-align: right;\">\n",
       "      <th></th>\n",
       "      <th>station_id</th>\n",
       "      <th>name</th>\n",
       "      <th>lat</th>\n",
       "      <th>lon</th>\n",
       "      <th>geometry</th>\n",
       "    </tr>\n",
       "  </thead>\n",
       "  <tbody>\n",
       "    <tr>\n",
       "      <th>3666</th>\n",
       "      <td>449.0</td>\n",
       "      <td>16th Depot Bike Fleet Station</td>\n",
       "      <td>0.0</td>\n",
       "      <td>0.0</td>\n",
       "      <td>POINT (0.00000 0.00000)</td>\n",
       "    </tr>\n",
       "  </tbody>\n",
       "</table>\n",
       "</div>"
      ],
      "text/plain": [
       "      station_id                           name  lat  lon  \\\n",
       "3666       449.0  16th Depot Bike Fleet Station  0.0  0.0   \n",
       "\n",
       "                     geometry  \n",
       "3666  POINT (0.00000 0.00000)  "
      ]
     },
     "execution_count": 12,
     "metadata": {},
     "output_type": "execute_result"
    }
   ],
   "source": [
    "stations.loc[(stations.lat==0) | (stations.lon==0)]"
   ]
  },
  {
   "cell_type": "markdown",
   "metadata": {},
   "source": [
    "So the 16th Street bike fleet depot is not actually registered as a real station in their system. We can remove this station and all trips to it from our data."
   ]
  },
  {
   "cell_type": "code",
   "execution_count": 13,
   "metadata": {},
   "outputs": [
    {
     "data": {
      "text/plain": [
       "<matplotlib.axes._subplots.AxesSubplot at 0x1e14fb1e408>"
      ]
     },
     "execution_count": 13,
     "metadata": {},
     "output_type": "execute_result"
    },
    {
     "data": {
      "image/png": "[encoded data removed]",
      "text/plain": [
       "<Figure size 648x648 with 1 Axes>"
      ]
     },
     "metadata": {
      "needs_background": "light"
     },
     "output_type": "display_data"
    }
   ],
   "source": [
    "# clean trips dataframe\n",
    "trips = trips.loc[(trips.start_station_id!=449.0) | (trips.end_station_id!=449.0)]\n",
    "\n",
    "# clean stations geodataframe\n",
    "stations = stations.loc[(stations.lat!=0) | (stations.lon!=0)]\n",
    "\n",
    "# plot stations\n",
    "stations.plot(figsize=(9,9))"
   ]
  },
  {
   "cell_type": "markdown",
   "metadata": {},
   "source": [
    "## 0.4 Label stations by regions \n",
    "\n",
    "As seen in the plot above there are three distinct regions of stations. Bay Wheels operates in San Francisco, San Jose, and the East Bay (Berkeley, Emeryville, and Oakland). Although it is possible to move a bike between these regions it is highly impractical (Oakland --> San Jose is a 4 hour ride) or requires additional modes of travel (Oakland --> San Francisco would require taking the bus or train because there is no bike path over entire the Bay Bridge).\n",
    "\n",
    "Self-defined bounding boxes are created below to label trips as being in specific regions and remove trips between regions. Defining the regions will also allow for easier visualizations and analysis later by selecting on stations by region."
   ]
  },
  {
   "cell_type": "code",
   "execution_count": 14,
   "metadata": {},
   "outputs": [],
   "source": [
    "# import shapely package to create bounding boxes\n",
    "from shapely.geometry import Polygon"
   ]
  },
  {
   "cell_type": "code",
   "execution_count": 15,
   "metadata": {},
   "outputs": [],
   "source": [
    "# Define a bounding boxes for bike share regions. The coordinates were manually identified.\n",
    "regions = [{\"name\": \"East Bay\", \"lat\": [37.9, 37.9, 37.76, 37.76, 37.9], \n",
    "                                \"lon\": [-122.2, -122.32, -122.32, -122.2, -122.2]},\n",
    "           {\"name\": \"San Francisco\", \"lat\": [37.81, 37.81, 37.71, 37.71, 37.81], \n",
    "                                     \"lon\": [-122.37, -122.48, -122.48, -122.37, -122.37]},\n",
    "           {\"name\": \"San Jose\", \"lat\": [37.375, 37.375, 37.305, 37.305, 37.375], \n",
    "                                \"lon\": [-121.86, -121.925, -121.925, -121.86, -121.86]}]\n",
    "\n",
    "# Create empty gdf to store data. The coordinate reference system is defined as WGS84 so the \n",
    "# coordinates are properly located on the map.\n",
    "crs = 'epsg:4326'\n",
    "bbox_gdf = gpd.GeoDataFrame(columns=[\"region\", \"geometry\"], crs=crs)\n",
    "\n",
    "# Loop through regions, create bounding boxes for each one\n",
    "for i in range(len(regions)):\n",
    "    polygon_geom = Polygon(zip(regions[i]['lon'], regions[i]['lat']))\n",
    "    bbox_gdf = bbox_gdf.append({'region': regions[i]['name'], 'geometry': polygon_geom}, ignore_index=True)"
   ]
  },
  {
   "cell_type": "code",
   "execution_count": 16,
   "metadata": {},
   "outputs": [],
   "source": [
    "# Save bounding box gdf to file\n",
    "bbox_gdf.to_file(driver='GeoJSON', filename=\"../data/baywheels_regions_bbox.geojson\")"
   ]
  },
  {
   "cell_type": "code",
   "execution_count": 17,
   "metadata": {
    "scrolled": false
   },
   "outputs": [
    {
     "data": {
      "image/png": "[encoded data removed]",
      "text/plain": [
       "<Figure size 648x432 with 1 Axes>"
      ]
     },
     "metadata": {
      "needs_background": "light"
     },
     "output_type": "display_data"
    },
    {
     "data": {
      "image/png": "[encoded data removed]",
      "text/plain": [
       "<Figure size 648x432 with 1 Axes>"
      ]
     },
     "metadata": {
      "needs_background": "light"
     },
     "output_type": "display_data"
    },
    {
     "data": {
      "image/png": "[encoded data removed]",
      "text/plain": [
       "<Figure size 648x432 with 1 Axes>"
      ]
     },
     "metadata": {
      "needs_background": "light"
     },
     "output_type": "display_data"
    }
   ],
   "source": [
    "# Plot all three regions\n",
    "for index, row in bbox_gdf.iterrows():\n",
    "    # Create figure\n",
    "    fig, ax = plt.subplots(figsize = (9,6))\n",
    "    \n",
    "    # Plot outline of CA\n",
    "    outlines.plot(ax=ax, color='whitesmoke', edgecolor='black')\n",
    "    \n",
    "    # Plot stations within bounding box\n",
    "    geom = bbox_gdf.loc[index, 'geometry']\n",
    "    stations.loc[stations.within(geom)].plot(ax=ax)\n",
    "\n",
    "    # Add plot descriptions, set bounds, and display \n",
    "    plt.tight_layout()\n",
    "    plt.title(row['region'])\n",
    "    ax.set_xlim((geom.bounds[0], geom.bounds[2]))\n",
    "    ax.set_ylim((geom.bounds[1], geom.bounds[3]))\n",
    "    plt.show()"
   ]
  },
  {
   "cell_type": "markdown",
   "metadata": {},
   "source": [
    "## 0.5 OSMnx\n",
    "\n",
    "Now that I have stations and their regions it is time to generate routes for each one. This section requires [OSMnx](https://github.com/gboeing/osmnx), a Python package that allows for analysis of OpenStreetMaps' network. First, the package is loaded into memory."
   ]
  },
  {
   "cell_type": "markdown",
   "metadata": {},
   "source": [
    "https://stackoverflow.com/questions/13331698/how-to-apply-a-function-to-two-columns-of-pandas-dataframe\n",
    "https://stackoverflow.com/questions/37428218/how-to-properly-apply-a-lambda-function-into-a-pandas-data-frame-column"
   ]
  },
  {
   "cell_type": "code",
   "execution_count": 17,
   "metadata": {},
   "outputs": [
    {
     "data": {
      "text/plain": [
       "'0.11.4'"
      ]
     },
     "execution_count": 17,
     "metadata": {},
     "output_type": "execute_result"
    }
   ],
   "source": [
    "# import OSMnx methods\n",
    "import osmnx as ox\n",
    "import networkx as nx\n",
    "%matplotlib inline\n",
    "ox.config(log_console=True, use_cache=True)\n",
    "ox.__version__"
   ]
  },
  {
   "cell_type": "code",
   "execution_count": 18,
   "metadata": {},
   "outputs": [],
   "source": [
    "# import timing methods\n",
    "import time\n",
    "from tqdm import tqdm"
   ]
  },
  {
   "cell_type": "markdown",
   "metadata": {},
   "source": [
    "Now that OSMnx is imported I need to retrieve the street network for the Bay Wheels regions. This step could be done all at once, but the processing time and memory required to load that large a street network is unnecessary. Instead, the bounding boxes from the regions created above are used to create OSMnx networks.\n",
    "\n",
    "Below we loop through each region, retrieve the street network, then collect the node ids (unique IDs for points in the OpenStreetMap network) for each Bay Wheels station.\n",
    "\n",
    "Sources referenced to create this section:\n",
    "* https://stackoverflow.com/questions/58257528/osmnx-shortest-path-for-a-set-of-origins-and-destinations\n",
    "* https://stackoverflow.com/questions/46238813/osmnx-get-coordinates-of-nodes-using-osm-id"
   ]
  },
  {
   "cell_type": "code",
   "execution_count": 19,
   "metadata": {},
   "outputs": [
    {
     "name": "stdout",
     "output_type": "stream",
     "text": [
      "Retrieving OSMnx network within East Bay\n"
     ]
    },
    {
     "name": "stderr",
     "output_type": "stream",
     "text": [
      "  2%|█▎                                                                                | 2/128 [00:00<00:10, 11.51it/s]"
     ]
    },
    {
     "name": "stdout",
     "output_type": "stream",
     "text": [
      "Collecting OSMnx node ids within East Bay\n"
     ]
    },
    {
     "name": "stderr",
     "output_type": "stream",
     "text": [
      "100%|████████████████████████████████████████████████████████████████████████████████| 128/128 [00:20<00:00,  6.24it/s]\n"
     ]
    },
    {
     "name": "stdout",
     "output_type": "stream",
     "text": [
      "Retrieving OSMnx network within San Francisco\n"
     ]
    },
    {
     "name": "stderr",
     "output_type": "stream",
     "text": [
      "  1%|▋                                                                                 | 2/224 [00:00<00:17, 12.42it/s]"
     ]
    },
    {
     "name": "stdout",
     "output_type": "stream",
     "text": [
      "Collecting OSMnx node ids within San Francisco\n"
     ]
    },
    {
     "name": "stderr",
     "output_type": "stream",
     "text": [
      "100%|████████████████████████████████████████████████████████████████████████████████| 224/224 [00:25<00:00,  8.79it/s]\n"
     ]
    },
    {
     "name": "stdout",
     "output_type": "stream",
     "text": [
      "Retrieving OSMnx network within San Jose\n"
     ]
    },
    {
     "name": "stderr",
     "output_type": "stream",
     "text": [
      "  2%|██                                                                                 | 2/82 [00:00<00:04, 19.01it/s]"
     ]
    },
    {
     "name": "stdout",
     "output_type": "stream",
     "text": [
      "Collecting OSMnx node ids within San Jose\n"
     ]
    },
    {
     "name": "stderr",
     "output_type": "stream",
     "text": [
      "100%|██████████████████████████████████████████████████████████████████████████████████| 82/82 [00:05<00:00, 14.69it/s]\n"
     ]
    }
   ],
   "source": [
    "# create empty dataframe and list to store outputs\n",
    "nodes_df = pd.DataFrame(columns=['station_id', 'ox_node', 'region'])\n",
    "networks = []\n",
    "\n",
    "# Loop through each region in bbox_gdf\n",
    "for index, row in bbox_gdf.iterrows():\n",
    "    \n",
    "    # Create variables for region (r) and the index (i)\n",
    "    r = row['region']\n",
    "    i = index\n",
    "    \n",
    "    print(f\"Retrieving OSMnx network within {r}\")\n",
    "    \n",
    "    # Define a bounding box for the current region\n",
    "    bounds = bbox_gdf.loc[bbox_gdf.region==r].geometry.bounds\n",
    "    north, south, east, west = bounds.maxy[i], bounds.miny[i], bounds.maxx[i], bounds.minx[i]\n",
    "    \n",
    "    # Create network from that bounding box. Setting network_type='bike' because \n",
    "    # we want on- and off-road bike paths. Save this network to the networks list so it can be\n",
    "    # accessed later.\n",
    "    G = ox.graph_from_bbox(north, south, east, west, network_type='bike')\n",
    "    networks.append(G)\n",
    "    \n",
    "    print(f\"Collecting OSMnx node ids within {r}\")\n",
    "    \n",
    "    # Create empty array to store nodes\n",
    "    nodes_list = []\n",
    "    station_ids = []\n",
    "    region_name = []\n",
    "    \n",
    "    # Select all nodes in that region\n",
    "    temp_gdf = stations.loc[stations.within(bbox_gdf.loc[i, 'geometry'])].copy()\n",
    "\n",
    "    # Loop though all stations in the current region. Get the nearest node and save\n",
    "    # that id to an array.\n",
    "    for j in tqdm(range(len(temp_gdf))):\n",
    "        node = ox.get_nearest_node(G, (temp_gdf.iloc[j]['lat'], temp_gdf.iloc[j]['lon']))\n",
    "        nodes_list.append(node)\n",
    "        station_ids.append(temp_gdf.iloc[j]['station_id'])\n",
    "        region_name.append(r)\n",
    "\n",
    "    # Create dataframe with the nodes in the current region, then append to a dataframe with\n",
    "    # nodes from all stations in all regions.\n",
    "    temp_df = pd.DataFrame({'station_id': station_ids,\n",
    "                            'ox_node': nodes_list,\n",
    "                            'region': region_name}) \n",
    "    nodes_df = nodes_df.append(temp_df)"
   ]
  },
  {
   "cell_type": "code",
   "execution_count": 20,
   "metadata": {},
   "outputs": [
    {
     "data": {
      "text/html": [
       "<div>\n",
       "<style scoped>\n",
       "    .dataframe tbody tr th:only-of-type {\n",
       "        vertical-align: middle;\n",
       "    }\n",
       "\n",
       "    .dataframe tbody tr th {\n",
       "        vertical-align: top;\n",
       "    }\n",
       "\n",
       "    .dataframe thead th {\n",
       "        text-align: right;\n",
       "    }\n",
       "</style>\n",
       "<table border=\"1\" class=\"dataframe\">\n",
       "  <thead>\n",
       "    <tr style=\"text-align: right;\">\n",
       "      <th></th>\n",
       "      <th>station_id</th>\n",
       "      <th>name</th>\n",
       "      <th>lat</th>\n",
       "      <th>lon</th>\n",
       "      <th>geometry</th>\n",
       "      <th>ox_node</th>\n",
       "      <th>region</th>\n",
       "    </tr>\n",
       "  </thead>\n",
       "  <tbody>\n",
       "    <tr>\n",
       "      <th>0</th>\n",
       "      <td>3.0</td>\n",
       "      <td>Powell St BART Station (Market St at 4th St)</td>\n",
       "      <td>37.786375</td>\n",
       "      <td>-122.404904</td>\n",
       "      <td>POINT (-122.40490 37.78638)</td>\n",
       "      <td>6489941287</td>\n",
       "      <td>San Francisco</td>\n",
       "    </tr>\n",
       "    <tr>\n",
       "      <th>1</th>\n",
       "      <td>4.0</td>\n",
       "      <td>Cyril Magnin St at Ellis St</td>\n",
       "      <td>37.785881</td>\n",
       "      <td>-122.408915</td>\n",
       "      <td>POINT (-122.40892 37.78588)</td>\n",
       "      <td>65313138</td>\n",
       "      <td>San Francisco</td>\n",
       "    </tr>\n",
       "    <tr>\n",
       "      <th>2</th>\n",
       "      <td>5.0</td>\n",
       "      <td>Powell St BART Station (Market St at 5th St)</td>\n",
       "      <td>37.783899</td>\n",
       "      <td>-122.408445</td>\n",
       "      <td>POINT (-122.40844 37.78390)</td>\n",
       "      <td>1723739163</td>\n",
       "      <td>San Francisco</td>\n",
       "    </tr>\n",
       "    <tr>\n",
       "      <th>3</th>\n",
       "      <td>6.0</td>\n",
       "      <td>The Embarcadero at Sansome St</td>\n",
       "      <td>37.804770</td>\n",
       "      <td>-122.403234</td>\n",
       "      <td>POINT (-122.40323 37.80477)</td>\n",
       "      <td>33241803</td>\n",
       "      <td>San Francisco</td>\n",
       "    </tr>\n",
       "    <tr>\n",
       "      <th>4</th>\n",
       "      <td>7.0</td>\n",
       "      <td>Frank H Ogawa Plaza</td>\n",
       "      <td>37.804562</td>\n",
       "      <td>-122.271738</td>\n",
       "      <td>POINT (-122.27174 37.80456)</td>\n",
       "      <td>3244767454</td>\n",
       "      <td>East Bay</td>\n",
       "    </tr>\n",
       "  </tbody>\n",
       "</table>\n",
       "</div>"
      ],
      "text/plain": [
       "   station_id                                          name        lat  \\\n",
       "0         3.0  Powell St BART Station (Market St at 4th St)  37.786375   \n",
       "1         4.0                   Cyril Magnin St at Ellis St  37.785881   \n",
       "2         5.0  Powell St BART Station (Market St at 5th St)  37.783899   \n",
       "3         6.0                 The Embarcadero at Sansome St  37.804770   \n",
       "4         7.0                           Frank H Ogawa Plaza  37.804562   \n",
       "\n",
       "          lon                     geometry     ox_node         region  \n",
       "0 -122.404904  POINT (-122.40490 37.78638)  6489941287  San Francisco  \n",
       "1 -122.408915  POINT (-122.40892 37.78588)    65313138  San Francisco  \n",
       "2 -122.408445  POINT (-122.40844 37.78390)  1723739163  San Francisco  \n",
       "3 -122.403234  POINT (-122.40323 37.80477)    33241803  San Francisco  \n",
       "4 -122.271738  POINT (-122.27174 37.80456)  3244767454       East Bay  "
      ]
     },
     "execution_count": 20,
     "metadata": {},
     "output_type": "execute_result"
    }
   ],
   "source": [
    "# Merge nearest nodes df with stations gdf\n",
    "stations = stations.merge(nodes_df, on=\"station_id\", how=\"left\")\n",
    "\n",
    "# Display new gdf\n",
    "stations.head()"
   ]
  },
  {
   "cell_type": "code",
   "execution_count": 21,
   "metadata": {},
   "outputs": [
    {
     "name": "stdout",
     "output_type": "stream",
     "text": [
      "All stations: 436\n",
      "Stations in the East Bay: 128\n",
      "Stations in San Francisco: 226\n",
      "Stations in San Jose: 82\n"
     ]
    }
   ],
   "source": [
    "# Checking how many stations were identified by OSMnx. If these numbers don't \n",
    "# add up return to the loop two cells above and check for errors.\n",
    "print(f\"All stations: {len(stations)}\")\n",
    "print(f\"Stations in the East Bay: {len(stations[stations.region=='East Bay'].ox_node)}\")\n",
    "print(f\"Stations in San Francisco: {len(stations[stations.region=='San Francisco'].ox_node)}\")\n",
    "print(f\"Stations in San Jose: {len(stations[stations.region=='San Jose'].ox_node)}\")"
   ]
  },
  {
   "cell_type": "markdown",
   "metadata": {},
   "source": [
    "Now that we have nodes and regions attached to the stations we want to also attach it to the trips. We have station ids and coordinates for each trip but not OSM nodes that are necessary for routing."
   ]
  },
  {
   "cell_type": "code",
   "execution_count": 22,
   "metadata": {},
   "outputs": [
    {
     "data": {
      "text/html": [
       "<div>\n",
       "<style scoped>\n",
       "    .dataframe tbody tr th:only-of-type {\n",
       "        vertical-align: middle;\n",
       "    }\n",
       "\n",
       "    .dataframe tbody tr th {\n",
       "        vertical-align: top;\n",
       "    }\n",
       "\n",
       "    .dataframe thead th {\n",
       "        text-align: right;\n",
       "    }\n",
       "</style>\n",
       "<table border=\"1\" class=\"dataframe\">\n",
       "  <thead>\n",
       "    <tr style=\"text-align: right;\">\n",
       "      <th></th>\n",
       "      <th>start_station_id</th>\n",
       "      <th>end_station_id</th>\n",
       "      <th>count</th>\n",
       "      <th>start_node</th>\n",
       "      <th>start_region</th>\n",
       "      <th>end_node</th>\n",
       "      <th>end_region</th>\n",
       "    </tr>\n",
       "  </thead>\n",
       "  <tbody>\n",
       "    <tr>\n",
       "      <th>0</th>\n",
       "      <td>3.0</td>\n",
       "      <td>4.0</td>\n",
       "      <td>5</td>\n",
       "      <td>6489941287</td>\n",
       "      <td>San Francisco</td>\n",
       "      <td>65313138</td>\n",
       "      <td>San Francisco</td>\n",
       "    </tr>\n",
       "    <tr>\n",
       "      <th>1</th>\n",
       "      <td>5.0</td>\n",
       "      <td>4.0</td>\n",
       "      <td>2</td>\n",
       "      <td>1723739163</td>\n",
       "      <td>San Francisco</td>\n",
       "      <td>65313138</td>\n",
       "      <td>San Francisco</td>\n",
       "    </tr>\n",
       "    <tr>\n",
       "      <th>2</th>\n",
       "      <td>6.0</td>\n",
       "      <td>4.0</td>\n",
       "      <td>2</td>\n",
       "      <td>33241803</td>\n",
       "      <td>San Francisco</td>\n",
       "      <td>65313138</td>\n",
       "      <td>San Francisco</td>\n",
       "    </tr>\n",
       "    <tr>\n",
       "      <th>3</th>\n",
       "      <td>10.0</td>\n",
       "      <td>4.0</td>\n",
       "      <td>1</td>\n",
       "      <td>65374771</td>\n",
       "      <td>San Francisco</td>\n",
       "      <td>65313138</td>\n",
       "      <td>San Francisco</td>\n",
       "    </tr>\n",
       "    <tr>\n",
       "      <th>4</th>\n",
       "      <td>11.0</td>\n",
       "      <td>4.0</td>\n",
       "      <td>3</td>\n",
       "      <td>65328969</td>\n",
       "      <td>San Francisco</td>\n",
       "      <td>65313138</td>\n",
       "      <td>San Francisco</td>\n",
       "    </tr>\n",
       "  </tbody>\n",
       "</table>\n",
       "</div>"
      ],
      "text/plain": [
       "   start_station_id  end_station_id  count  start_node   start_region  \\\n",
       "0               3.0             4.0      5  6489941287  San Francisco   \n",
       "1               5.0             4.0      2  1723739163  San Francisco   \n",
       "2               6.0             4.0      2    33241803  San Francisco   \n",
       "3              10.0             4.0      1    65374771  San Francisco   \n",
       "4              11.0             4.0      3    65328969  San Francisco   \n",
       "\n",
       "   end_node     end_region  \n",
       "0  65313138  San Francisco  \n",
       "1  65313138  San Francisco  \n",
       "2  65313138  San Francisco  \n",
       "3  65313138  San Francisco  \n",
       "4  65313138  San Francisco  "
      ]
     },
     "execution_count": 22,
     "metadata": {},
     "output_type": "execute_result"
    }
   ],
   "source": [
    "# Add start station ox_node and region to trips df\n",
    "trips = trips.merge(stations[['station_id', 'ox_node', 'region']], \n",
    "                    left_on=\"start_station_id\", \n",
    "                    right_on=\"station_id\",\n",
    "                    how=\"left\")\n",
    "trips.drop(columns=['station_id'], inplace=True)\n",
    "trips.rename(columns={'ox_node': 'start_node', 'region': 'start_region'}, inplace=True)\n",
    "\n",
    "# Add end station ox_node and region to trips df\n",
    "trips = trips.merge(stations[['station_id', 'ox_node', 'region']], \n",
    "                    left_on=\"end_station_id\", \n",
    "                    right_on=\"station_id\")\n",
    "trips.drop(columns=['station_id'], inplace=True)\n",
    "trips.rename(columns={'ox_node': 'end_node', 'region': 'end_region'}, inplace=True)\n",
    "\n",
    "# Display updated trips df\n",
    "trips.head()"
   ]
  },
  {
   "cell_type": "code",
   "execution_count": 23,
   "metadata": {},
   "outputs": [],
   "source": [
    "# Drop all trips that don't start and end in the same region. As mentioned above this could happen only if\n",
    "# the bike rider took the bike on transit or in a car to another region...even if they did manage\n",
    "# to bike from Oakland to San Jose it is not useful for this analysis.\n",
    "trips = trips.loc[trips.start_region==trips.end_region].copy()\n",
    "\n",
    "# With those trips dropped the 'start_region' and 'end_region' columns are identical, can\n",
    "# drop one to save memory.\n",
    "trips.drop(columns=['start_region'], inplace=True)\n",
    "trips.rename(columns={'end_region': 'region'}, inplace=True)"
   ]
  },
  {
   "cell_type": "markdown",
   "metadata": {},
   "source": [
    "In the loop above the networks queried using OSMnx were saved to a list. We want to be able to use these later for routing, analysis, and visualization so they are assigned to variables below.\n",
    "\n",
    "    G0 = East Bay network\n",
    "    G1 = San Francisco network\n",
    "    G2 = San Jose network"
   ]
  },
  {
   "cell_type": "code",
   "execution_count": 24,
   "metadata": {},
   "outputs": [],
   "source": [
    "# Create variables for each network\n",
    "G0, G1, G2 = [x for x in networks]\n",
    "\n",
    "# Delete list of networks (and network created in loop above) to save memory\n",
    "del networks\n",
    "del G\n",
    "\n",
    "# The networks could also be combined into one variable using the code below. This has not been\n",
    "# a necessary step so far, so it has been commented out.\n",
    "# G = nx.compose(G0, G1)\n",
    "# G = nx.compose(G, G2)\n",
    "# fig, ax = ox.plot_graph(G)"
   ]
  },
  {
   "cell_type": "markdown",
   "metadata": {},
   "source": [
    "In addition to preserving the networks it is useful to save the networks as geodataframes of nodes and edges. They will be needed in the next step for routing and also useful to save so the data does not have to be re-processed.\n",
    "\n",
    "Some code used below from: https://automating-gis-processes.github.io/2017/lessons/L7/network-analysis.html"
   ]
  },
  {
   "cell_type": "code",
   "execution_count": 25,
   "metadata": {},
   "outputs": [],
   "source": [
    "# Convert networking nodes and edges to geodataframes\n",
    "g0_nodes, g0_edges = ox.graph_to_gdfs(G0)\n",
    "g1_nodes, g1_edges = ox.graph_to_gdfs(G1)\n",
    "g2_nodes, g2_edges = ox.graph_to_gdfs(G2)\n",
    "\n",
    "# Save nodes to file.\n",
    "g0_nodes.to_file(driver='GeoJSON', filename=\"../data/G0_nodes.geojson\")\n",
    "g1_nodes.to_file(driver='GeoJSON', filename=\"../data/G1_nodes.geojson\")\n",
    "g2_nodes.to_file(driver='GeoJSON', filename=\"../data/G2_nodes.geojson\")\n",
    "\n",
    "# Edges commented out because they were not saving properly. Additionally, they are not needed later\n",
    "# because the maps created will contain the routes generated using NetworkX below.\n",
    "# g0_edges.to_file(driver='GeoJSON', filename=\"../data/G0_edges.geojson\")\n",
    "# g1_edges.to_file(driver='GeoJSON', filename=\"../data/G1_edges.geojson\")\n",
    "# g2_edges.to_file(driver='GeoJSON', filename=\"../data/G2_edges.geojson\")\n",
    "del g0_edges, g1_edges, g2_edges"
   ]
  },
  {
   "cell_type": "markdown",
   "metadata": {},
   "source": [
    "The last step is to use the `.shortest_path` method from NetworkX to generate routes for each unique trip between bike share stations. The code for this step can be found in cells 12, 13, and 14 in [this notebook](https://github.com/gboeing/osmnx-examples/blob/master/notebooks/06-example-osmnx-networkx.ipynb). In short, the cells below loop through each trip and use the `start_node` and the `end_node` to get a route between the two. Shortest path routes are used because most often trips are taken that optimize the path from A to B. Because we deleted all circuitious trips (A to A, B to B, etc.) we assume there are no leisure trips taken so the best path between the origin and destination is selected. Then, using the geodataframes of nodes created above the routes (which are returned as arrays of nodes between the origin and destination) are converted into a list of points. These are then converted into Shapely Linestrings and can be used as geometry features to append to the trips and create a geodataframe with the routes for each trip.\n",
    "\n",
    "The networks (`G0`, `G1`, and `G2`) are saved in memory so no external API is required to generate these paths. This process is still very expensive (computationally) though so it will take a couple minutes to process."
   ]
  },
  {
   "cell_type": "code",
   "execution_count": 26,
   "metadata": {},
   "outputs": [],
   "source": [
    "# Import LineString and Point shapes from Shapely package\n",
    "from shapely.geometry import LineString, Point"
   ]
  },
  {
   "cell_type": "code",
   "execution_count": 28,
   "metadata": {},
   "outputs": [
    {
     "name": "stderr",
     "output_type": "stream",
     "text": [
      "100%|████████████████████████████████████████████████████████████████████████████| 23924/23924 [06:31<00:00, 61.05it/s]\n"
     ]
    }
   ],
   "source": [
    "# create empty arrays to store data\n",
    "paths = []\n",
    "lines = []\n",
    "\n",
    "# Loop through each trip in the trips df\n",
    "for i in tqdm(range(len(trips))):\n",
    "    \n",
    "    # create variables for the current origin, destination, and region\n",
    "    origin_node = trips.iloc[i]['start_node']\n",
    "    destination_node = trips.iloc[i]['end_node']\n",
    "    region = trips.iloc[i]['region']\n",
    "    \n",
    "    # Using the network for each region, generate the shortest path and \n",
    "    # convert this to a Shapely LineString so it can be analyzed and mapped\n",
    "    # with geopandas and not just parsed by OSMnx.\n",
    "    if region == \"East Bay\":\n",
    "        route = nx.shortest_path(G0, origin_node, destination_node)\n",
    "        route_nodes = g0_nodes.loc[route]\n",
    "        route_line = LineString(list(route_nodes.geometry.values))\n",
    "    elif region == \"San Francisco\":\n",
    "        route = nx.shortest_path(G1, origin_node, destination_node)\n",
    "        route_nodes = g1_nodes.loc[route]\n",
    "        route_line = LineString(list(route_nodes.geometry.values))\n",
    "    elif region == \"San Jose\":\n",
    "        route = nx.shortest_path(G2, origin_node, destination_node)\n",
    "        route_nodes = g2_nodes.loc[route]\n",
    "        route_line = LineString(list(route_nodes.geometry.values))\n",
    "    else:\n",
    "        route = np.nan\n",
    "        route_line = np.nan\n",
    "        \n",
    "    # Append route and route_line to arrays outside of the loop\n",
    "    paths.append(route)\n",
    "    lines.append(route_line)"
   ]
  },
  {
   "cell_type": "code",
   "execution_count": 29,
   "metadata": {},
   "outputs": [],
   "source": [
    "# Add route paths (arrays of OSM nodes along the route) to the trips dataframe\n",
    "trips['route'] = np.array(paths)"
   ]
  },
  {
   "cell_type": "code",
   "execution_count": 30,
   "metadata": {},
   "outputs": [
    {
     "data": {
      "text/html": [
       "<div>\n",
       "<style scoped>\n",
       "    .dataframe tbody tr th:only-of-type {\n",
       "        vertical-align: middle;\n",
       "    }\n",
       "\n",
       "    .dataframe tbody tr th {\n",
       "        vertical-align: top;\n",
       "    }\n",
       "\n",
       "    .dataframe thead th {\n",
       "        text-align: right;\n",
       "    }\n",
       "</style>\n",
       "<table border=\"1\" class=\"dataframe\">\n",
       "  <thead>\n",
       "    <tr style=\"text-align: right;\">\n",
       "      <th></th>\n",
       "      <th>start_station_id</th>\n",
       "      <th>end_station_id</th>\n",
       "      <th>count</th>\n",
       "      <th>start_node</th>\n",
       "      <th>end_node</th>\n",
       "      <th>region</th>\n",
       "      <th>route</th>\n",
       "      <th>geometry</th>\n",
       "    </tr>\n",
       "  </thead>\n",
       "  <tbody>\n",
       "    <tr>\n",
       "      <th>0</th>\n",
       "      <td>3.0</td>\n",
       "      <td>4.0</td>\n",
       "      <td>5</td>\n",
       "      <td>6489941287</td>\n",
       "      <td>65313138</td>\n",
       "      <td>San Francisco</td>\n",
       "      <td>[6489941287, 5858516688, 1723738887, 721705712...</td>\n",
       "      <td>LINESTRING (-122.40508 37.78638, -122.40523 37...</td>\n",
       "    </tr>\n",
       "    <tr>\n",
       "      <th>1</th>\n",
       "      <td>5.0</td>\n",
       "      <td>4.0</td>\n",
       "      <td>2</td>\n",
       "      <td>1723739163</td>\n",
       "      <td>65313138</td>\n",
       "      <td>San Francisco</td>\n",
       "      <td>[1723739163, 65313131, 65313133, 65313138]</td>\n",
       "      <td>LINESTRING (-122.40807 37.78401, -122.40853 37...</td>\n",
       "    </tr>\n",
       "    <tr>\n",
       "      <th>2</th>\n",
       "      <td>6.0</td>\n",
       "      <td>4.0</td>\n",
       "      <td>2</td>\n",
       "      <td>33241803</td>\n",
       "      <td>65313138</td>\n",
       "      <td>San Francisco</td>\n",
       "      <td>[33241803, 260194262, 280836272, 6250503702, 2...</td>\n",
       "      <td>LINESTRING (-122.40345 37.80504, -122.40228 37...</td>\n",
       "    </tr>\n",
       "    <tr>\n",
       "      <th>3</th>\n",
       "      <td>10.0</td>\n",
       "      <td>4.0</td>\n",
       "      <td>1</td>\n",
       "      <td>65374771</td>\n",
       "      <td>65313138</td>\n",
       "      <td>San Francisco</td>\n",
       "      <td>[65374771, 4039511684, 65337586, 65336155, 653...</td>\n",
       "      <td>LINESTRING (-122.40497 37.79533, -122.40565 37...</td>\n",
       "    </tr>\n",
       "    <tr>\n",
       "      <th>4</th>\n",
       "      <td>11.0</td>\n",
       "      <td>4.0</td>\n",
       "      <td>3</td>\n",
       "      <td>65328969</td>\n",
       "      <td>65313138</td>\n",
       "      <td>San Francisco</td>\n",
       "      <td>[65328969, 65372268, 65336941, 65307352, 65307...</td>\n",
       "      <td>LINESTRING (-122.39835 37.79709, -122.39819 37...</td>\n",
       "    </tr>\n",
       "  </tbody>\n",
       "</table>\n",
       "</div>"
      ],
      "text/plain": [
       "   start_station_id  end_station_id  count  start_node  end_node  \\\n",
       "0               3.0             4.0      5  6489941287  65313138   \n",
       "1               5.0             4.0      2  1723739163  65313138   \n",
       "2               6.0             4.0      2    33241803  65313138   \n",
       "3              10.0             4.0      1    65374771  65313138   \n",
       "4              11.0             4.0      3    65328969  65313138   \n",
       "\n",
       "          region                                              route  \\\n",
       "0  San Francisco  [6489941287, 5858516688, 1723738887, 721705712...   \n",
       "1  San Francisco         [1723739163, 65313131, 65313133, 65313138]   \n",
       "2  San Francisco  [33241803, 260194262, 280836272, 6250503702, 2...   \n",
       "3  San Francisco  [65374771, 4039511684, 65337586, 65336155, 653...   \n",
       "4  San Francisco  [65328969, 65372268, 65336941, 65307352, 65307...   \n",
       "\n",
       "                                            geometry  \n",
       "0  LINESTRING (-122.40508 37.78638, -122.40523 37...  \n",
       "1  LINESTRING (-122.40807 37.78401, -122.40853 37...  \n",
       "2  LINESTRING (-122.40345 37.80504, -122.40228 37...  \n",
       "3  LINESTRING (-122.40497 37.79533, -122.40565 37...  \n",
       "4  LINESTRING (-122.39835 37.79709, -122.39819 37...  "
      ]
     },
     "execution_count": 30,
     "metadata": {},
     "output_type": "execute_result"
    }
   ],
   "source": [
    "# Create geodataframe with trips where geometry is a linestring of the shortest path route\n",
    "# between start_station_id and end_station_id.\n",
    "trips_gdf = gpd.GeoDataFrame(trips, crs=crs, geometry=lines)\n",
    "\n",
    "# Display new geodataframe with routes\n",
    "trips_gdf.head()"
   ]
  },
  {
   "cell_type": "markdown",
   "metadata": {},
   "source": [
    "## 0.6 Expand trips_gdf to have unique row for each count\n",
    "\n",
    "To remove unecessary loops the trips dataframe was grouped earlier in the notebook to consolidate multiple trips. However, for later analysis we need to [expand](https://stackoverflow.com/questions/50257516/expand-pandas-dataframe-by-values-in-column) trips_gdf to have a row for each value in the column count. So, if there are 5 trips from station 3 to station 4 then this code will create a dataframe with 5 rows of that same trip. This will be important later when we want to get locations with the greatest density of trips.\n",
    "\n",
    "**NOTE:** This section was commented out because it was creating a very large file. This is not necessary at this stage because the data can always be expanded later."
   ]
  },
  {
   "cell_type": "code",
   "execution_count": null,
   "metadata": {},
   "outputs": [],
   "source": [
    "# print(f\"Length of grouped trips_gdf: {len(trips_gdf)}\")\n",
    "\n",
    "# # Expand trips_gdf\n",
    "# trips_gdf = trips_gdf.reindex(trips_gdf.index.repeat(trips_gdf['count']))\n",
    "\n",
    "# # Create a column named position in the expanded dataframe to keep track of how many rows of data\n",
    "# # there are per trip.\n",
    "# trips_gdf['position'] = trips_gdf.groupby(level=0).cumcount()+1\n",
    "\n",
    "# # Print length of new dataframe\n",
    "# print(f\"Length of expanded trips_gdf: {len(trips_gdf)}\")\n",
    "\n",
    "# # Display gdf to preview how this worked\n",
    "# trips_gdf.head(10)"
   ]
  },
  {
   "cell_type": "markdown",
   "metadata": {},
   "source": [
    "## 0.7 Save geodataframe of trips and stations to file\n",
    "\n",
    "Preserving the data to file will allow for access later without having to run this notebook."
   ]
  },
  {
   "cell_type": "code",
   "execution_count": 32,
   "metadata": {},
   "outputs": [],
   "source": [
    "# Save geodataframe of trip routes to file. \n",
    "# The column 'route' has to be deleted because .geojson files do not allow columns with type list.\n",
    "trips_gdf.drop(columns=['route']).to_file(driver='GeoJSON', filename=\"../data/baywheels_routes_osmnx.geojson\")"
   ]
  },
  {
   "cell_type": "code",
   "execution_count": 33,
   "metadata": {},
   "outputs": [],
   "source": [
    "# Save geodataframe of stations to file. \n",
    "stations.to_file(driver='GeoJSON', filename=\"../data/baywheels_stations.geojson\")"
   ]
  },
  {
   "cell_type": "code",
   "execution_count": null,
   "metadata": {},
   "outputs": [],
   "source": []
  }
 ],
 "metadata": {
  "kernelspec": {
   "display_name": "Python 3",
   "language": "python",
   "name": "python3"
  },
  "language_info": {
   "codemirror_mode": {
    "name": "ipython",
    "version": 3
   },
   "file_extension": ".py",
   "mimetype": "text/x-python",
   "name": "python",
   "nbconvert_exporter": "python",
   "pygments_lexer": "ipython3",
   "version": "3.7.6"
  }
 },
 "nbformat": 4,
 "nbformat_minor": 4
}
