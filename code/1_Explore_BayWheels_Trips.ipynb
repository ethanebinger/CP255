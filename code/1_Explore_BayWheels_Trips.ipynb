{
 "cells": [
  {
   "cell_type": "markdown",
   "metadata": {},
   "source": [
    "# CYPLAN 255 Project\n",
    "\n",
    "## Using Open-Source Bike Share Trip Data to Inform Social Distancing Street Closures\n",
    "\n",
    "### `1_Explore_BayWheels_Trips`\n",
    "\n",
    "This data does less processing and more exploratory analysis to visualize the Bay Wheels origin-destination trips. The charts and figures created in this notebook can be used to set the stage for further analysis and provide background information on the data.\n",
    "\n",
    "**Datasets used:**\n",
    "* [System data](https://www.lyft.com/bikes/bay-wheels/system-data) from Bay Wheels. We process only trips from February 2020 because it is the latest dataset available (most current station layout and trip flows).\n",
    "* [Regional bicycle facilities](http://opendata.mtc.ca.gov/datasets/regional-bike-facilities?geometry=-122.400%2C37.800%2C-122.144%2C37.847) in the Bay Area. From the Metropolitan Transportation Commission.\n",
    "* Census boundaries for California, including polygons for the state outline, census-designated places, and tracts.\n",
    "\n",
    "**Notebook summary:**\n",
    "* 1.0 - Import packages\n",
    "* 1.1 - Import data\n",
    "* 1.2 - Create a heatmap of trips by time of day and day of the week using Seaborn\n",
    "* 1.3 - Explore the breakdown of type of bike facility in the Bay Area"
   ]
  },
  {
   "cell_type": "markdown",
   "metadata": {},
   "source": [
    "## 1.0 Initialize notebook"
   ]
  },
  {
   "cell_type": "code",
   "execution_count": 1,
   "metadata": {},
   "outputs": [],
   "source": [
    "import numpy as np\n",
    "import pandas as pd\n",
    "import geopandas as gpd\n",
    "import matplotlib.pyplot as plt"
   ]
  },
  {
   "cell_type": "code",
   "execution_count": 2,
   "metadata": {},
   "outputs": [],
   "source": [
    "import seaborn as sns\n",
    "sns.set()"
   ]
  },
  {
   "cell_type": "markdown",
   "metadata": {},
   "source": [
    "## 1.1 Load data"
   ]
  },
  {
   "cell_type": "code",
   "execution_count": 3,
   "metadata": {},
   "outputs": [],
   "source": [
    "# load raw trip data\n",
    "trips = pd.read_csv(\"../data/202002-baywheels-tripdata.csv\", low_memory=False)"
   ]
  },
  {
   "cell_type": "code",
   "execution_count": 4,
   "metadata": {},
   "outputs": [],
   "source": [
    "# load bicycle facilities in Bay Area\n",
    "facilities = gpd.read_file(\"../data/regional_bike_facilities.geojson\")\n",
    "\n",
    "# class / class_type :\n",
    "# 1 = 'Off-Street Shared-Use Path'\n",
    "# 2 = 'Bike Lane'\n",
    "# 3 = 'On-Street Bike Route'"
   ]
  },
  {
   "cell_type": "code",
   "execution_count": 16,
   "metadata": {},
   "outputs": [],
   "source": [
    "# load bounding boxes for station regions\n",
    "bbox_gdf = gpd.read_file(\"../data/baywheels_regions_bbox.geojson\")"
   ]
  },
  {
   "cell_type": "markdown",
   "metadata": {},
   "source": [
    "## 1.2 Heatmap\n",
    "\n",
    "When do people use Bay Wheels? Are trips taken for leisure or for a purpose? Seaborn has a heatmap visualization that can plot a month of Bay Wheel trips by day of the week and time of day.\n",
    "\n",
    "Sources referenced for this section:\n",
    "* http://seaborn.pydata.org/examples/heatmap_annotation.html\n",
    "* https://seaborn.pydata.org/generated/seaborn.heatmap.html\n",
    "\n",
    "Additional sources that could be used to create time series animations of these heatmaps:\n",
    "* Code for [creating animations](https://stackoverflow.com/questions/46236902/redrawing-seaborn-figures-for-animations) in matplotlib\n",
    "* Simpler [animation](https://python-graph-gallery.com/340-scatterplot-animation/) in seaborn using gifs"
   ]
  },
  {
   "cell_type": "code",
   "execution_count": 5,
   "metadata": {},
   "outputs": [],
   "source": [
    "# truncate data to be list of trip counts by day of week (0-6) and hour of day (0-23)\n",
    "trips['start_time'] = pd.to_datetime(trips.start_time, format='%Y-%m-%d %H:%M:%S.%f')\n",
    "trips['day'] = trips['start_time'].dt.weekday\n",
    "trips['hour'] = trips['start_time'].dt.hour\n",
    "heatmap_df = trips.groupby(['day', 'hour']).start_time.count().reset_index()\n",
    "heatmap_df.rename(columns={\"start_time\": \"count\"}, inplace=True)"
   ]
  },
  {
   "cell_type": "code",
   "execution_count": 6,
   "metadata": {},
   "outputs": [],
   "source": [
    "# convert to long-form and rename index\n",
    "heatmap_df = heatmap_df.pivot(\"day\", \"hour\", \"count\")\n",
    "heatmap_df.index = [\"Mon\", \"Tue\", \"Wed\", \"Thu\", \"Fri\", \"Sat\", \"Sun\"]\n",
    "heatmap_df.index.name = 'day'"
   ]
  },
  {
   "cell_type": "code",
   "execution_count": 7,
   "metadata": {},
   "outputs": [
    {
     "data": {
      "text/plain": [
       "<matplotlib.axes._subplots.AxesSubplot at 0x1e41127a988>"
      ]
     },
     "execution_count": 7,
     "metadata": {},
     "output_type": "execute_result"
    },
    {
     "data": {
      "image/png": "[encoded data removed]",
      "text/plain": [
       "<Figure size 1152x288 with 2 Axes>"
      ]
     },
     "metadata": {},
     "output_type": "display_data"
    }
   ],
   "source": [
    "# Draw a heatmap with the numeric values in each cell\n",
    "f, ax = plt.subplots(figsize=(16, 4))\n",
    "sns.heatmap(heatmap_df, \n",
    "            cmap=\"YlGnBu\", \n",
    "            square=True, \n",
    "            vmax=8000,\n",
    "            ax=ax)"
   ]
  },
  {
   "cell_type": "markdown",
   "metadata": {},
   "source": [
    "There are distinct trip patterns. During weekdays people are most frequently using Bay Wheels for travel between 8am-9am and 5pm-6pm, which lines up with peak period travel for work. There are trips made during weekdays outside of these times but not to the same magnitude.\n",
    "\n",
    "On the weekend the morning/evening work trip peaks disappear. Instead people are using Bay Wheels bikes for trips during the middle of the day. These are likely leisure or errand trips for people moving around on the weekend. They do not occur with the same magnitude as weekday peak period trips. When exploring trip routes it may make sense to split up weekday and weekend travel because trip patterns may differ with trip purpose.\n",
    "\n",
    "Bay Wheels is not often used in the evening, possibly because people do not feel safe biking at night."
   ]
  },
  {
   "cell_type": "markdown",
   "metadata": {},
   "source": [
    "## 1.3 Bike facility breakdown by type\n",
    "\n",
    "What kind of bike facilities are there in the Bay? How many lane-miles are there of each type? How many lane-miles are in each Bay Wheels region?"
   ]
  },
  {
   "cell_type": "code",
   "execution_count": 30,
   "metadata": {},
   "outputs": [],
   "source": [
    "# Convert the gdf to NAD83 (a projected coordinate system) so we can get length\n",
    "# measurements in meters.\n",
    "facilities = facilities.to_crs('epsg:3310')\n",
    "\n",
    "# Create a new column with the length of each facility (meters and miles)\n",
    "facilities['length'] = facilities.geometry.length\n",
    "facilities['length_mi'] = facilities.geometry.length * 0.000621371"
   ]
  },
  {
   "cell_type": "code",
   "execution_count": 31,
   "metadata": {},
   "outputs": [
    {
     "data": {
      "text/html": [
       "<div>\n",
       "<style scoped>\n",
       "    .dataframe tbody tr th:only-of-type {\n",
       "        vertical-align: middle;\n",
       "    }\n",
       "\n",
       "    .dataframe tbody tr th {\n",
       "        vertical-align: top;\n",
       "    }\n",
       "\n",
       "    .dataframe thead tr th {\n",
       "        text-align: left;\n",
       "    }\n",
       "\n",
       "    .dataframe thead tr:last-of-type th {\n",
       "        text-align: right;\n",
       "    }\n",
       "</style>\n",
       "<table border=\"1\" class=\"dataframe\">\n",
       "  <thead>\n",
       "    <tr>\n",
       "      <th></th>\n",
       "      <th colspan=\"2\" halign=\"left\">length_mi</th>\n",
       "    </tr>\n",
       "    <tr>\n",
       "      <th></th>\n",
       "      <th>mean</th>\n",
       "      <th>sum</th>\n",
       "    </tr>\n",
       "    <tr>\n",
       "      <th>class_type</th>\n",
       "      <th></th>\n",
       "      <th></th>\n",
       "    </tr>\n",
       "  </thead>\n",
       "  <tbody>\n",
       "    <tr>\n",
       "      <th>Bike Lane</th>\n",
       "      <td>0.440772</td>\n",
       "      <td>1578.843742</td>\n",
       "    </tr>\n",
       "    <tr>\n",
       "      <th>Off-Street Shared-Use Path</th>\n",
       "      <td>0.578930</td>\n",
       "      <td>638.559838</td>\n",
       "    </tr>\n",
       "    <tr>\n",
       "      <th>On-Street Bike Route</th>\n",
       "      <td>0.420092</td>\n",
       "      <td>1066.192423</td>\n",
       "    </tr>\n",
       "  </tbody>\n",
       "</table>\n",
       "</div>"
      ],
      "text/plain": [
       "                           length_mi             \n",
       "                                mean          sum\n",
       "class_type                                       \n",
       "Bike Lane                   0.440772  1578.843742\n",
       "Off-Street Shared-Use Path  0.578930   638.559838\n",
       "On-Street Bike Route        0.420092  1066.192423"
      ]
     },
     "execution_count": 31,
     "metadata": {},
     "output_type": "execute_result"
    }
   ],
   "source": [
    "# Group bike facilities by type to see the average length and total length of bike facilities\n",
    "# in the system.\n",
    "facilities.groupby('class_type').agg({'length_mi': ['mean','sum']})"
   ]
  },
  {
   "cell_type": "markdown",
   "metadata": {},
   "source": [
    "On average the length of off-street shared-use paths are the greatest. This makes sense because these routes may often be through parks or other areas that do not have to be broken up by street intersections. However, there are the fewest total lane-miles of that type of bicycle facility. The majority of bike facilities in the Bay Area are bike lanes. Unfortunately, these are the most dangerous of the three because they do not offer the same level of protection that the other two classes do (because they provide separation from faster traffic and heavy vehicles). \n",
    "\n",
    "When looking at what streets to recommend for closure to vehicles to promote social distancing it may not be necessary to prioritize protected bike lanes because there will be no traffic. However, separation of modes by speed can minimize accidents between bicycles and pedestrians and should be considered."
   ]
  },
  {
   "cell_type": "code",
   "execution_count": 32,
   "metadata": {},
   "outputs": [
    {
     "name": "stdout",
     "output_type": "stream",
     "text": [
      "region / sum of length / mean length\n",
      "East Bay / 110.6196128053169 / 0.2731348464328813\n",
      "San Francisco / 166.535332844327 / 0.27942169940323325\n",
      "San Jose / 21.0176725267353 / 0.4471845218454319\n"
     ]
    }
   ],
   "source": [
    "# Reproject bounding box gdf to NAD83 so we can use overlay the dataset with the \n",
    "# bike share region bounding boxes\n",
    "bbox_gdf = bbox_gdf.to_crs('epsg:3310')\n",
    "\n",
    "# Calculate attributes of the bike facilities in each region\n",
    "print(\"region / sum of length / mean length\")\n",
    "for index, row in bbox_gdf.iterrows():\n",
    "    x = facilities.loc[facilities.within(row['geometry'])]\n",
    "    s = sum(x.length_mi)\n",
    "    a = s/len(x)\n",
    "    print(row['region'], \"/\", s, \"/\", a)"
   ]
  },
  {
   "cell_type": "markdown",
   "metadata": {},
   "source": [
    "The most lane-miles of bike facilities are in San Francisco (166.5 total miles) but the length of each facility is longest in San Jose. The facility lengths in the East Bay and San Francisco are comprable. Whether this is by design of the jurisdictions or a result of street design (similar street grids?) is unclear."
   ]
  }
 ],
 "metadata": {
  "kernelspec": {
   "display_name": "Python 3",
   "language": "python",
   "name": "python3"
  },
  "language_info": {
   "codemirror_mode": {
    "name": "ipython",
    "version": 3
   },
   "file_extension": ".py",
   "mimetype": "text/x-python",
   "name": "python",
   "nbconvert_exporter": "python",
   "pygments_lexer": "ipython3",
   "version": "3.7.6"
  }
 },
 "nbformat": 4,
 "nbformat_minor": 4
}
