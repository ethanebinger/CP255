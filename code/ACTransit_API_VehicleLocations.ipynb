{
 "cells": [
  {
   "cell_type": "markdown",
   "metadata": {},
   "source": [
    "## AC Transit GTFS RT\n",
    "\n",
    "This notebook calls the AC Transit API to collect real-time vehicle information and locations\n",
    "\n",
    "**Links**: \n",
    "- [AC Transit API Documentation](https://api.actransit.org/transit/Help)\n",
    "- [Using google.transit package to decode the protocol buffer returned by the API](https://github.com/MobilityData/gtfs-realtime-bindings/tree/master/python)\n"
   ]
  },
  {
   "cell_type": "markdown",
   "metadata": {},
   "source": [
    "### Import packages"
   ]
  },
  {
   "cell_type": "code",
   "execution_count": 44,
   "metadata": {},
   "outputs": [],
   "source": [
    "import pandas as pd\n",
    "import numpy as np\n",
    "import csv\n",
    "import json\n",
    "from datetime import datetime\n",
    "\n",
    "import requests\n",
    "from google.transit import gtfs_realtime_pb2"
   ]
  },
  {
   "cell_type": "code",
   "execution_count": 45,
   "metadata": {},
   "outputs": [],
   "source": [
    "import os.path\n",
    "from os import path"
   ]
  },
  {
   "cell_type": "code",
   "execution_count": 46,
   "metadata": {},
   "outputs": [],
   "source": [
    "import schedule\n",
    "import time\n",
    "import functools"
   ]
  },
  {
   "cell_type": "code",
   "execution_count": 47,
   "metadata": {},
   "outputs": [],
   "source": [
    "from config import *\n",
    "BASE = \"https://api.actransit.org/transit/\""
   ]
  },
  {
   "cell_type": "markdown",
   "metadata": {},
   "source": [
    "### Functions to call API and save data to .csv file"
   ]
  },
  {
   "cell_type": "code",
   "execution_count": 48,
   "metadata": {},
   "outputs": [],
   "source": [
    "def with_logging(func):\n",
    "    @functools.wraps(func)\n",
    "    def wrapper(*args, **kwargs):\n",
    "        print('LOG: Running job \"%s\" at %s' % (func.__name__, datetime.now().strftime(\"%m/%d, %H:%M:%S\")))\n",
    "        result = func(*args, **kwargs)\n",
    "        print('LOG: Job \"%s\" completed at %s' % (func.__name__, datetime.now().strftime(\"%m/%d, %H:%M:%S\")))\n",
    "        return result\n",
    "    return wrapper"
   ]
  },
  {
   "cell_type": "code",
   "execution_count": 49,
   "metadata": {},
   "outputs": [],
   "source": [
    "#@with_logging\n",
    "def call_api():\n",
    "    \n",
    "    # check to make sure between hours of operation\n",
    "    dt_start = datetime.now()\n",
    "    if (dt_start.weekday() < 5) & (dt_start.hour not in [1,2,3,4]):\n",
    "        print(\"Calling API at %s\" % dt_start.strftime(\"%m/%d, %H:%M:%S\"))\n",
    "    else:\n",
    "        print(\"Skip call, out of hours (%s)\" % dt_start.strftime(\"%m/%d, %H:%M:%S\"))\n",
    "        return\n",
    "    \n",
    "    # call API\n",
    "    feed = gtfs_realtime_pb2.FeedMessage()\n",
    "    response = requests.get(BASE+\"gtfsrt/vehicles/?token=\"+KEY)\n",
    "    feed.ParseFromString(response.content)\n",
    "    \n",
    "    # create empty arrays to store data\n",
    "    route_id = []\n",
    "    trip_id = []\n",
    "    vehicle_id = []\n",
    "    latitude = []\n",
    "    longitude = []\n",
    "    bearing = []\n",
    "    speed = []\n",
    "    unix_time = []\n",
    "    #schedule_relationship = []\n",
    "\n",
    "    # fill arrays with data pulled from API\n",
    "    for entity in feed.entity:\n",
    "        route_id.append(entity.vehicle.trip.route_id)\n",
    "        trip_id.append(entity.vehicle.trip.trip_id)\n",
    "        vehicle_id.append(entity.vehicle.vehicle.id)\n",
    "        latitude.append(entity.vehicle.position.latitude)\n",
    "        longitude.append(entity.vehicle.position.longitude)\n",
    "        bearing.append(entity.vehicle.position.bearing)\n",
    "        speed.append(entity.vehicle.position.speed)\n",
    "        unix_time.append(entity.vehicle.timestamp)\n",
    "\n",
    "    # save data to pandas dataframe\n",
    "    df = pd.DataFrame(\n",
    "        {'route_id' : route_id,\n",
    "         'trip_id' : trip_id,\n",
    "         'vehicle_id' : vehicle_id,\n",
    "         'latitude' : latitude,\n",
    "         'longitude' : longitude,\n",
    "         'bearing' : bearing,\n",
    "         'speed': speed,\n",
    "         'unix_time': unix_time\n",
    "        })\n",
    "    df['time'] = pd.to_datetime(df['unix_time'], unit='s').astype('datetime64[ns, US/Pacific]')\n",
    "    \n",
    "    # save dataframe to CSV\n",
    "    dt_end = datetime.now()\n",
    "    out_file = \"../data/ACTransit_Veh_Loc_\"+dt_end.strftime(\"%m%d\")+\".csv\"\n",
    "    if path.exists(out_file):\n",
    "        df.to_csv(out_file, mode='a', header=False, index=False)\n",
    "    else:\n",
    "        df.to_csv(out_file, mode='w', header=df.columns, index=False)\n",
    "    \n",
    "    # return feed, df\n",
    "    print(\"Completed API call at %s\" % dt_end.strftime(\"%m/%d, %H:%M:%S\"))"
   ]
  },
  {
   "cell_type": "markdown",
   "metadata": {},
   "source": [
    "### Run API (STATIC)"
   ]
  },
  {
   "cell_type": "code",
   "execution_count": 50,
   "metadata": {},
   "outputs": [
    {
     "name": "stdout",
     "output_type": "stream",
     "text": [
      "Skip call, out of hours (03/01, 17:11:49)\n"
     ]
    }
   ],
   "source": [
    "# call API once, save data to file\n",
    "call_api()"
   ]
  },
  {
   "cell_type": "markdown",
   "metadata": {},
   "source": [
    "### Run API (SCHEDULED)"
   ]
  },
  {
   "cell_type": "code",
   "execution_count": 19,
   "metadata": {},
   "outputs": [],
   "source": [
    "# Clear existing schedule (if any)\n",
    "schedule.clear()\n",
    "\n",
    "# Schedule call\n",
    "schedule.every(1).minutes.do(call_api)\n",
    "\n",
    "# Run\n",
    "while True:\n",
    "    schedule.run_pending()\n",
    "    time.sleep(0.05)"
   ]
  },
  {
   "cell_type": "code",
   "execution_count": null,
   "metadata": {},
   "outputs": [],
   "source": []
  },
  {
   "cell_type": "markdown",
   "metadata": {},
   "source": [
    "### TESTING"
   ]
  },
  {
   "cell_type": "code",
   "execution_count": null,
   "metadata": {},
   "outputs": [],
   "source": [
    "# https://stackoverflow.com/questions/54451027/using-python-with-schedule-library-with-an-if-statement\n",
    "\n",
    "def weekdayJob():\n",
    "    schedule.every(1).minutes.do(call_api).tag(\"one_min\")\n",
    "\n",
    "def clearJob():\n",
    "    schedule.clear(\"one_min\")\n",
    "\n",
    "schedule.every().monday.at(\"05:00\").do(weekdayJob)\n",
    "schedule.every().tuesday.at(\"01:00\").do(clearJob)\n",
    "\n",
    "schedule.every().tuesday.at(\"05:00\").do(weekdayJob)\n",
    "schedule.every().wednesday.at(\"01:00\").do(clearJob)\n",
    "\n",
    "schedule.every().wednesday.at(\"05:00\").do(weekdayJob)\n",
    "schedule.every().thursday.at(\"01:00\").do(clearJob)\n",
    "\n",
    "schedule.every().thursday.at(\"05:00\").do(weekdayJob)\n",
    "schedule.every().friday.at(\"01:00\").do(clearJob)\n",
    "\n",
    "schedule.every().friday.at(\"05:00\").do(weekdayJob)\n",
    "schedule.every().saturday.at(\"01:00\").do(clearJob)\n",
    "\n",
    "while True:\n",
    "    schedule.run_pending()\n",
    "    time.sleep(0.05)"
   ]
  },
  {
   "cell_type": "code",
   "execution_count": null,
   "metadata": {},
   "outputs": [],
   "source": []
  }
 ],
 "metadata": {
  "kernelspec": {
   "display_name": "Python 3",
   "language": "python",
   "name": "python3"
  },
  "language_info": {
   "codemirror_mode": {
    "name": "ipython",
    "version": 3
   },
   "file_extension": ".py",
   "mimetype": "text/x-python",
   "name": "python",
   "nbconvert_exporter": "python",
   "pygments_lexer": "ipython3",
   "version": "3.7.6"
  }
 },
 "nbformat": 4,
 "nbformat_minor": 4
}
