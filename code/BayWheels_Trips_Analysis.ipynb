{
 "cells": [
  {
   "cell_type": "markdown",
   "metadata": {},
   "source": [
    "# Exploring locations for street-closures to promote social distancing during the COVID-19 pandemic using open-source bike share trip data.\n",
    "\n",
    "#### Steps:\n",
    "* density of bike share stations in East Bay\n",
    "    * gif with change over time?\n",
    "    * heatmap of ridership times and dates?\n",
    "* put O-Ds (unique) though OSMnx route to get most used routes (Feb 2020 only?)\n",
    "* use to inform locaitons hwere street closures would be useful to encourage social distancing\n",
    "    * overlay with bike boulevards and lanes\n",
    "    * overlay with bus routes\n",
    "    * overlay with SAFETrec bike crash locations?\n",
    "    \n",
    "**Alternate title:** Using open-source bike share trip data to inform social distancing street closures.\n",
    "\n",
    "#### Articles:\n",
    "* [Mapping how cities are reclaiming street space](https://ny.curbed.com/2020/4/6/21209462/nyc-car-free-streets-coronavirus-bill-de-blasio)\n",
    "* [How to open streets right during social distancing](https://usa.streetsblog.org/2020/04/08/how-to-open-streets-right-during-social-distancing/#new_tab)\n",
    "* [NYC car-free streets pilot cut short](https://ny.curbed.com/2020/4/6/21209462/nyc-car-free-streets-coronavirus-bill-de-blasio)\n",
    "* [Oakland closing 74 miles of streets](https://sf.streetsblog.org/2020/04/10/oakland-to-open-74-miles-of-streets-for-safe-biking-and-recreation/)"
   ]
  },
  {
   "cell_type": "markdown",
   "metadata": {},
   "source": [
    "## Initialize"
   ]
  },
  {
   "cell_type": "code",
   "execution_count": 1,
   "metadata": {},
   "outputs": [],
   "source": [
    "import csv\n",
    "import json\n",
    "import geojson\n",
    "import requests\n",
    "import numpy as np\n",
    "import pandas as pd\n",
    "import geopandas as gpd\n",
    "from datetime import datetime"
   ]
  },
  {
   "cell_type": "code",
   "execution_count": 2,
   "metadata": {},
   "outputs": [],
   "source": [
    "# gbfs_stations = r'https://gbfs.baywheels.com/gbfs/en/station_information.json'\n",
    "# gbfs_regions = r'https://gbfs.baywheels.com/gbfs/en/system_regions.json'"
   ]
  },
  {
   "cell_type": "code",
   "execution_count": 3,
   "metadata": {},
   "outputs": [],
   "source": [
    "# def is_number(s):\n",
    "#     try:\n",
    "#         float(s)\n",
    "#         return True\n",
    "#     except ValueError:\n",
    "#         return False"
   ]
  },
  {
   "cell_type": "markdown",
   "metadata": {},
   "source": [
    "## Load Data"
   ]
  },
  {
   "cell_type": "code",
   "execution_count": 4,
   "metadata": {},
   "outputs": [],
   "source": [
    "# load raw data\n",
    "trips = pd.read_csv(\"../data/202002-baywheels-tripdata.csv\", low_memory=False)"
   ]
  },
  {
   "cell_type": "markdown",
   "metadata": {},
   "source": [
    "## Heatmap\n",
    "* http://seaborn.pydata.org/examples/heatmap_annotation.html\n",
    "* https://seaborn.pydata.org/generated/seaborn.heatmap.html\n",
    "\n",
    "\n",
    "* mess of code for [creating animations](https://stackoverflow.com/questions/46236902/redrawing-seaborn-figures-for-animations) in matplotlib\n",
    "* simpler [animation](https://python-graph-gallery.com/340-scatterplot-animation/) in seaborn using gifs"
   ]
  },
  {
   "cell_type": "code",
   "execution_count": 5,
   "metadata": {},
   "outputs": [],
   "source": [
    "import matplotlib.pyplot as plt\n",
    "import seaborn as sns\n",
    "sns.set()"
   ]
  },
  {
   "cell_type": "code",
   "execution_count": 6,
   "metadata": {},
   "outputs": [],
   "source": [
    "# truncate data to be list of trip counts by day of week (0-6) and hour of day (0-23)\n",
    "trips['start_time'] = pd.to_datetime(trips.start_time, format='%Y-%m-%d %H:%M:%S.%f')\n",
    "trips['day'] = trips['start_time'].dt.weekday\n",
    "trips['hour'] = trips['start_time'].dt.hour\n",
    "heatmap_df = trips.groupby(['day', 'hour']).start_time.count().reset_index()\n",
    "heatmap_df.rename(columns={\"start_time\": \"count\"}, inplace=True)"
   ]
  },
  {
   "cell_type": "code",
   "execution_count": 7,
   "metadata": {},
   "outputs": [],
   "source": [
    "# convert to long-form and rename index\n",
    "heatmap_df = heatmap_df.pivot(\"day\", \"hour\", \"count\")\n",
    "heatmap_df.index = [\"Mon\", \"Tue\", \"Wed\", \"Thu\", \"Fri\", \"Sat\", \"Sun\"]\n",
    "heatmap_df.index.name = 'day'"
   ]
  },
  {
   "cell_type": "code",
   "execution_count": 8,
   "metadata": {},
   "outputs": [
    {
     "data": {
      "text/plain": [
       "<matplotlib.axes._subplots.AxesSubplot at 0x2b74b209f48>"
      ]
     },
     "execution_count": 8,
     "metadata": {},
     "output_type": "execute_result"
    },
    {
     "data": {
      "image/png": "[encoded data removed]",
      "text/plain": [
       "<Figure size 1152x288 with 2 Axes>"
      ]
     },
     "metadata": {},
     "output_type": "display_data"
    }
   ],
   "source": [
    "# Draw a heatmap with the numeric values in each cell\n",
    "f, ax = plt.subplots(figsize=(16, 4))\n",
    "sns.heatmap(heatmap_df, \n",
    "            cmap=\"YlGnBu\", \n",
    "            square=True, \n",
    "            vmax=8000,\n",
    "            ax=ax)"
   ]
  },
  {
   "cell_type": "markdown",
   "metadata": {},
   "source": [
    "## Get unique OD pairs from trip table"
   ]
  },
  {
   "cell_type": "code",
   "execution_count": 9,
   "metadata": {},
   "outputs": [
    {
     "data": {
      "text/html": [
       "<div>\n",
       "<style scoped>\n",
       "    .dataframe tbody tr th:only-of-type {\n",
       "        vertical-align: middle;\n",
       "    }\n",
       "\n",
       "    .dataframe tbody tr th {\n",
       "        vertical-align: top;\n",
       "    }\n",
       "\n",
       "    .dataframe thead th {\n",
       "        text-align: right;\n",
       "    }\n",
       "</style>\n",
       "<table border=\"1\" class=\"dataframe\">\n",
       "  <thead>\n",
       "    <tr style=\"text-align: right;\">\n",
       "      <th></th>\n",
       "      <th>start_station_id</th>\n",
       "      <th>end_station_id</th>\n",
       "      <th>count</th>\n",
       "      <th>start_station_latitude</th>\n",
       "      <th>start_station_longitude</th>\n",
       "      <th>end_station_latitude</th>\n",
       "      <th>end_station_longitude</th>\n",
       "    </tr>\n",
       "  </thead>\n",
       "  <tbody>\n",
       "    <tr>\n",
       "      <th>1</th>\n",
       "      <td>3.0</td>\n",
       "      <td>4.0</td>\n",
       "      <td>5</td>\n",
       "      <td>37.786375</td>\n",
       "      <td>-122.404904</td>\n",
       "      <td>37.785881</td>\n",
       "      <td>-122.408915</td>\n",
       "    </tr>\n",
       "    <tr>\n",
       "      <th>2</th>\n",
       "      <td>3.0</td>\n",
       "      <td>5.0</td>\n",
       "      <td>27</td>\n",
       "      <td>37.786375</td>\n",
       "      <td>-122.404904</td>\n",
       "      <td>37.783899</td>\n",
       "      <td>-122.408445</td>\n",
       "    </tr>\n",
       "    <tr>\n",
       "      <th>3</th>\n",
       "      <td>3.0</td>\n",
       "      <td>6.0</td>\n",
       "      <td>13</td>\n",
       "      <td>37.786375</td>\n",
       "      <td>-122.404904</td>\n",
       "      <td>37.804770</td>\n",
       "      <td>-122.403234</td>\n",
       "    </tr>\n",
       "    <tr>\n",
       "      <th>4</th>\n",
       "      <td>3.0</td>\n",
       "      <td>8.0</td>\n",
       "      <td>6</td>\n",
       "      <td>37.786375</td>\n",
       "      <td>-122.404904</td>\n",
       "      <td>37.799953</td>\n",
       "      <td>-122.398525</td>\n",
       "    </tr>\n",
       "    <tr>\n",
       "      <th>5</th>\n",
       "      <td>3.0</td>\n",
       "      <td>9.0</td>\n",
       "      <td>3</td>\n",
       "      <td>37.786375</td>\n",
       "      <td>-122.404904</td>\n",
       "      <td>37.798572</td>\n",
       "      <td>-122.400869</td>\n",
       "    </tr>\n",
       "  </tbody>\n",
       "</table>\n",
       "</div>"
      ],
      "text/plain": [
       "   start_station_id  end_station_id  count  start_station_latitude  \\\n",
       "1               3.0             4.0      5               37.786375   \n",
       "2               3.0             5.0     27               37.786375   \n",
       "3               3.0             6.0     13               37.786375   \n",
       "4               3.0             8.0      6               37.786375   \n",
       "5               3.0             9.0      3               37.786375   \n",
       "\n",
       "   start_station_longitude  end_station_latitude  end_station_longitude  \n",
       "1              -122.404904             37.785881            -122.408915  \n",
       "2              -122.404904             37.783899            -122.408445  \n",
       "3              -122.404904             37.804770            -122.403234  \n",
       "4              -122.404904             37.799953            -122.398525  \n",
       "5              -122.404904             37.798572            -122.400869  "
      ]
     },
     "execution_count": 9,
     "metadata": {},
     "output_type": "execute_result"
    }
   ],
   "source": [
    "# group trips by Origin-Destination pair\n",
    "trips_agg = trips.groupby([\"start_station_id\", \"end_station_id\"]).agg({'start_time':'count',\n",
    "                                                                      'start_station_latitude': 'first',\n",
    "                                                                      'start_station_longitude': 'first',\n",
    "                                                                      'end_station_latitude': 'first',\n",
    "                                                                      'end_station_longitude': 'first'})\n",
    "trips_agg.reset_index(inplace=True)\n",
    "trips_agg.rename(columns={\"start_time\": \"count\"}, inplace=True)\n",
    "trips_agg = trips_agg.loc[trips_agg.start_station_id != trips_agg.end_station_id]\n",
    "trips_agg.head()"
   ]
  },
  {
   "cell_type": "markdown",
   "metadata": {},
   "source": [
    "## Get unique stations from trip table"
   ]
  },
  {
   "cell_type": "code",
   "execution_count": 11,
   "metadata": {},
   "outputs": [
    {
     "data": {
      "text/html": [
       "<div>\n",
       "<style scoped>\n",
       "    .dataframe tbody tr th:only-of-type {\n",
       "        vertical-align: middle;\n",
       "    }\n",
       "\n",
       "    .dataframe tbody tr th {\n",
       "        vertical-align: top;\n",
       "    }\n",
       "\n",
       "    .dataframe thead th {\n",
       "        text-align: right;\n",
       "    }\n",
       "</style>\n",
       "<table border=\"1\" class=\"dataframe\">\n",
       "  <thead>\n",
       "    <tr style=\"text-align: right;\">\n",
       "      <th></th>\n",
       "      <th>station_id</th>\n",
       "      <th>name</th>\n",
       "      <th>lat</th>\n",
       "      <th>lon</th>\n",
       "      <th>geometry</th>\n",
       "    </tr>\n",
       "  </thead>\n",
       "  <tbody>\n",
       "    <tr>\n",
       "      <th>0</th>\n",
       "      <td>176.0</td>\n",
       "      <td>MacArthur BART Station</td>\n",
       "      <td>37.828410</td>\n",
       "      <td>-122.266315</td>\n",
       "      <td>POINT (-122.26631 37.82841)</td>\n",
       "    </tr>\n",
       "    <tr>\n",
       "      <th>1</th>\n",
       "      <td>375.0</td>\n",
       "      <td>Grove St at Masonic Ave</td>\n",
       "      <td>37.774836</td>\n",
       "      <td>-122.446546</td>\n",
       "      <td>POINT (-122.44655 37.77484)</td>\n",
       "    </tr>\n",
       "    <tr>\n",
       "      <th>3</th>\n",
       "      <td>179.0</td>\n",
       "      <td>Telegraph Ave at 27th St</td>\n",
       "      <td>37.816073</td>\n",
       "      <td>-122.267886</td>\n",
       "      <td>POINT (-122.26789 37.81607)</td>\n",
       "    </tr>\n",
       "    <tr>\n",
       "      <th>5</th>\n",
       "      <td>182.0</td>\n",
       "      <td>19th Street BART Station</td>\n",
       "      <td>37.809369</td>\n",
       "      <td>-122.267951</td>\n",
       "      <td>POINT (-122.26795 37.80937)</td>\n",
       "    </tr>\n",
       "    <tr>\n",
       "      <th>6</th>\n",
       "      <td>252.0</td>\n",
       "      <td>Channing Way at Shattuck Ave</td>\n",
       "      <td>37.865847</td>\n",
       "      <td>-122.267443</td>\n",
       "      <td>POINT (-122.26744 37.86585)</td>\n",
       "    </tr>\n",
       "  </tbody>\n",
       "</table>\n",
       "</div>"
      ],
      "text/plain": [
       "   station_id                          name        lat         lon  \\\n",
       "0       176.0        MacArthur BART Station  37.828410 -122.266315   \n",
       "1       375.0       Grove St at Masonic Ave  37.774836 -122.446546   \n",
       "3       179.0      Telegraph Ave at 27th St  37.816073 -122.267886   \n",
       "5       182.0      19th Street BART Station  37.809369 -122.267951   \n",
       "6       252.0  Channing Way at Shattuck Ave  37.865847 -122.267443   \n",
       "\n",
       "                      geometry  \n",
       "0  POINT (-122.26631 37.82841)  \n",
       "1  POINT (-122.44655 37.77484)  \n",
       "3  POINT (-122.26789 37.81607)  \n",
       "5  POINT (-122.26795 37.80937)  \n",
       "6  POINT (-122.26744 37.86585)  "
      ]
     },
     "execution_count": 11,
     "metadata": {},
     "output_type": "execute_result"
    }
   ],
   "source": [
    "# subset data for only origins and relevant columns\n",
    "trips_start = trips[['start_station_id', 'start_station_name', 'start_station_latitude', 'start_station_longitude']]\n",
    "trips_start.columns = ['station_id', 'name', 'lat', 'lon']\n",
    "\n",
    "# subset data for only destinations and relevant columns\n",
    "trips_end = trips[['end_station_id', 'end_station_name', 'end_station_latitude', 'end_station_longitude']]\n",
    "trips_end.columns = ['station_id', 'name', 'lat', 'lon']\n",
    "\n",
    "# join origins and destinations, filter to only include unique/non-null values\n",
    "stations = trips_start.append(trips_end)\n",
    "stations.dropna(inplace=True)\n",
    "stations.drop_duplicates(inplace=True)\n",
    "\n",
    "# turn data into geospatial dataframe\n",
    "stations = gpd.GeoDataFrame(stations, geometry=gpd.points_from_xy(stations.lon, stations.lat))\n",
    "\n",
    "# view gdf\n",
    "stations.head()"
   ]
  },
  {
   "cell_type": "markdown",
   "metadata": {},
   "source": [
    "## Label stations by regions \n",
    "Using self-defined bounding boxes"
   ]
  },
  {
   "cell_type": "code",
   "execution_count": 12,
   "metadata": {},
   "outputs": [],
   "source": [
    "from shapely.geometry import Polygon"
   ]
  },
  {
   "cell_type": "code",
   "execution_count": 13,
   "metadata": {},
   "outputs": [],
   "source": [
    "# define a bounding boxes for bike share regions\n",
    "regions = [{\"name\": \"East Bay\", \"lat\": [37.9, 37.9, 37.76, 37.76, 37.9], \n",
    "                                \"lon\": [-122.2, -122.32, -122.32, -122.2, -122.2]},\n",
    "           {\"name\": \"San Francisco\", \"lat\": [37.81, 37.81, 37.71, 37.71, 37.81], \n",
    "                                     \"lon\": [-122.37, -122.48, -122.48, -122.37, -122.37]},\n",
    "           {\"name\": \"San Jose\", \"lat\": [37.375, 37.375, 37.305, 37.305, 37.375], \n",
    "                                \"lon\": [-121.86, -121.925, -121.925, -121.86, -121.86]}]\n",
    "\n",
    "# create empty gdf to store data\n",
    "crs = 'epsg:4326'\n",
    "bbox_gdf = gpd.GeoDataFrame(columns=[\"region\", \"geometry\"], crs=crs)\n",
    "\n",
    "# loop through regions, create bounding boxes for each one\n",
    "for i in range(len(regions)):\n",
    "    polygon_geom = Polygon(zip(regions[i]['lon'], regions[i]['lat']))\n",
    "    bbox_gdf = bbox_gdf.append({'region': regions[i]['name'], 'geometry': polygon_geom}, ignore_index=True)"
   ]
  },
  {
   "cell_type": "code",
   "execution_count": 14,
   "metadata": {},
   "outputs": [],
   "source": [
    "# # add regions to stations\n",
    "# for index, row in bbox_gdf.iterrows():\n",
    "#     stations[row['region']] = stations.within(bbox_gdf.loc[index, 'geometry'])\n",
    "\n",
    "# # see new table\n",
    "# stations.head()"
   ]
  },
  {
   "cell_type": "code",
   "execution_count": 16,
   "metadata": {
    "scrolled": false
   },
   "outputs": [
    {
     "data": {
      "image/png": "[encoded data removed]",
      "text/plain": [
       "<Figure size 648x432 with 1 Axes>"
      ]
     },
     "metadata": {},
     "output_type": "display_data"
    },
    {
     "data": {
      "image/png": "[encoded data removed]",
      "text/plain": [
       "<Figure size 648x432 with 1 Axes>"
      ]
     },
     "metadata": {},
     "output_type": "display_data"
    },
    {
     "data": {
      "image/png": "[encoded data removed]",
      "text/plain": [
       "<Figure size 648x432 with 1 Axes>"
      ]
     },
     "metadata": {},
     "output_type": "display_data"
    }
   ],
   "source": [
    "# map all three regions\n",
    "# for i in range(len(regions)):\n",
    "for index, row in bbox_gdf.iterrows():\n",
    "    fig, ax = plt.subplots(figsize = (9,6))\n",
    "    # stations.loc[trips_gdf[regions[i]['name']]==True].plot(ax=ax)\n",
    "    stations.loc[stations.within(bbox_gdf.loc[index, 'geometry'])].plot(ax=ax)\n",
    "\n",
    "    plt.tight_layout()\n",
    "    # plt.title(regions[i]['name'])\n",
    "    plt.title(row['region'])\n",
    "    plt.show()"
   ]
  },
  {
   "cell_type": "code",
   "execution_count": 17,
   "metadata": {},
   "outputs": [],
   "source": [
    "# create gdfs of only stations in the East Bay\n",
    "# stations_eb = stations.loc[stations['East Bay']==True].copy()\n",
    "\n",
    "# # create gdfs of only stations in San Francisco\n",
    "# stations_sf = stations.loc[stations['San Francisco']==True].copy()\n",
    "\n",
    "# # create gdfs of only stations in San Jose\n",
    "# stations_sj = stations.loc[stations['San Jose']==True].copy()"
   ]
  },
  {
   "cell_type": "code",
   "execution_count": 18,
   "metadata": {},
   "outputs": [],
   "source": [
    "# select only trips in the East Bay\n",
    "# trips_eb = trips_agg[(trips_agg.start_station_id.isin(stations_eb.station_id)) & \n",
    "#                      (trips_agg.end_station_id.isin(stations_eb.station_id))]\n",
    "\n",
    "# # select only trips in San Francisco\n",
    "# trips_sf = trips_agg[(trips_agg.start_station_id.isin(stations_sf.station_id)) & \n",
    "#                      (trips_agg.end_station_id.isin(stations_sf.station_id))]\n",
    "\n",
    "# # select only trips in San Jose\n",
    "# trips_sj = trips_agg[(trips_agg.start_station_id.isin(stations_sj.station_id)) & \n",
    "#                      (trips_agg.end_station_id.isin(stations_sj.station_id))]"
   ]
  },
  {
   "cell_type": "code",
   "execution_count": 19,
   "metadata": {},
   "outputs": [],
   "source": [
    "# trips_agg = trips_agg.merge(trips_gdf[['station_id', 'lat', 'lon']], \n",
    "#                             left_on=\"start_station_id\", \n",
    "#                             right_on=\"station_id\")\n",
    "# trips_agg.drop(columns=['station_id'], inplace=True)\n",
    "# trips_agg.rename(columns={'lat': 'start_lat', 'lon': 'start_lon'}, inplace=True)\n",
    "\n",
    "# trips_agg = trips_agg.merge(trips_gdf[['station_id', 'lat', 'lon']], \n",
    "#                             left_on=\"end_station_id\", \n",
    "#                             right_on=\"station_id\")\n",
    "# trips_agg.drop(columns=['station_id'], inplace=True)\n",
    "# trips_agg.rename(columns={'lat': 'end_lat', 'lon': 'end_lon'}, inplace=True)"
   ]
  },
  {
   "cell_type": "code",
   "execution_count": null,
   "metadata": {},
   "outputs": [],
   "source": []
  },
  {
   "cell_type": "markdown",
   "metadata": {},
   "source": [
    "## OSMNx\n",
    "* Get network for all locations around East Bay Bay Wheels (can repeat later for SF, San Jose)\n",
    "* For each origin point use OSMnx to find the nearest network node\n",
    "* For each destination point use OSMnx to find the nearest network node\n",
    "* Calculate the shortest path between each origin/destination node pair, using nx.shortest_path\n",
    "* Save the route to a MultiLineString wkt\n",
    "* As the wkt is plain-text, just save this text to disk using any Python serialization method. Or assemble all the MultiLineStrings themselves into a geopandas GeoSeries and save that to disk as a shapefile or a GeoJSON file.\n",
    "\n",
    "#### Sources:\n",
    "* https://stackoverflow.com/questions/58257528/osmnx-shortest-path-for-a-set-of-origins-and-destinations\n",
    "* https://stackoverflow.com/questions/46238813/osmnx-get-coordinates-of-nodes-using-osm-id"
   ]
  },
  {
   "cell_type": "markdown",
   "metadata": {},
   "source": [
    "https://stackoverflow.com/questions/13331698/how-to-apply-a-function-to-two-columns-of-pandas-dataframe\n",
    "https://stackoverflow.com/questions/37428218/how-to-properly-apply-a-lambda-function-into-a-pandas-data-frame-column"
   ]
  },
  {
   "cell_type": "code",
   "execution_count": 20,
   "metadata": {},
   "outputs": [
    {
     "data": {
      "text/plain": [
       "'0.11.4'"
      ]
     },
     "execution_count": 20,
     "metadata": {},
     "output_type": "execute_result"
    }
   ],
   "source": [
    "# import OSMnx methods\n",
    "import osmnx as ox\n",
    "import networkx as nx\n",
    "%matplotlib inline\n",
    "ox.config(log_console=True, use_cache=True)\n",
    "ox.__version__"
   ]
  },
  {
   "cell_type": "code",
   "execution_count": 21,
   "metadata": {},
   "outputs": [],
   "source": [
    "# import timing methods\n",
    "import time\n",
    "from tqdm import tqdm"
   ]
  },
  {
   "cell_type": "code",
   "execution_count": 22,
   "metadata": {},
   "outputs": [],
   "source": [
    "# working with East Bay data first, so define region name and tables to use\n",
    "# region = \"East Bay\"\n",
    "# trips = trips_eb.copy()\n",
    "# stations = stations_eb.copy()"
   ]
  },
  {
   "cell_type": "code",
   "execution_count": 23,
   "metadata": {},
   "outputs": [],
   "source": [
    "# # Define a bounding box\n",
    "# bounds = bbox_gdf.loc[bbox_gdf.region==region].geometry.bounds\n",
    "# north, south, east, west = bounds.maxy[0], bounds.miny[0], bounds.maxx[0], bounds.minx[0]\n",
    "\n",
    "# # Create network from that bounding box. Setting network_type='bike' because \n",
    "# # we want on- and off-road bike paths for routing.\n",
    "# G = ox.graph_from_bbox(north, south, east, west, network_type='bike')\n",
    "\n",
    "# # Do not reproject the network yet, we want it in WGS84 for routing with our (lat,lon) coordinates\n",
    "\n",
    "# # plot network\n",
    "# # fig, ax = ox.plot_graph(G)"
   ]
  },
  {
   "cell_type": "code",
   "execution_count": 24,
   "metadata": {},
   "outputs": [],
   "source": [
    "# # create empty array to store nodes\n",
    "# nodes_list = []\n",
    "\n",
    "# # loop though all stations, get nearest node, append to list\n",
    "# for i in tqdm(range(len(stations))):\n",
    "#     node = ox.get_nearest_node(G, (trips_gdf.iloc[i]['lat'], trips_gdf.iloc[i]['lon']))\n",
    "#     nodes_list.append(node)\n",
    "\n",
    "# # add list to origin and destination nodes to the dataframe\n",
    "# stations['node'] = np.array(nodes_list)"
   ]
  },
  {
   "cell_type": "code",
   "execution_count": 30,
   "metadata": {},
   "outputs": [
    {
     "name": "stdout",
     "output_type": "stream",
     "text": [
      "Retrieving OSMnx network within East Bay\n"
     ]
    },
    {
     "name": "stderr",
     "output_type": "stream",
     "text": [
      "\r",
      "  0%|                                                                                          | 0/128 [00:00<?, ?it/s]"
     ]
    },
    {
     "name": "stdout",
     "output_type": "stream",
     "text": [
      "Collecting OSMnx node ids within East Bay\n"
     ]
    },
    {
     "name": "stderr",
     "output_type": "stream",
     "text": [
      "100%|████████████████████████████████████████████████████████████████████████████████| 128/128 [00:18<00:00,  7.04it/s]\n"
     ]
    },
    {
     "name": "stdout",
     "output_type": "stream",
     "text": [
      "Retrieving OSMnx network within San Francisco\n"
     ]
    },
    {
     "name": "stderr",
     "output_type": "stream",
     "text": [
      "\r",
      "  0%|                                                                                          | 0/226 [00:00<?, ?it/s]"
     ]
    },
    {
     "name": "stdout",
     "output_type": "stream",
     "text": [
      "Collecting OSMnx node ids within San Francisco\n"
     ]
    },
    {
     "name": "stderr",
     "output_type": "stream",
     "text": [
      "100%|████████████████████████████████████████████████████████████████████████████████| 226/226 [00:23<00:00,  9.64it/s]\n"
     ]
    },
    {
     "name": "stdout",
     "output_type": "stream",
     "text": [
      "Retrieving OSMnx network within San Jose\n"
     ]
    },
    {
     "name": "stderr",
     "output_type": "stream",
     "text": [
      "  4%|███                                                                                | 3/82 [00:00<00:03, 25.25it/s]"
     ]
    },
    {
     "name": "stdout",
     "output_type": "stream",
     "text": [
      "Collecting OSMnx node ids within San Jose\n"
     ]
    },
    {
     "name": "stderr",
     "output_type": "stream",
     "text": [
      "100%|██████████████████████████████████████████████████████████████████████████████████| 82/82 [00:05<00:00, 15.50it/s]\n"
     ]
    }
   ],
   "source": [
    "nodes_df = pd.DataFrame(columns=['station_id', 'ox_node', 'region'])\n",
    "networks = []\n",
    "for index, row in bbox_gdf.iterrows():\n",
    "    r = row['region']\n",
    "    i = index\n",
    "    print(f\"Retrieving OSMnx network within {r}\")\n",
    "    \n",
    "    # Define a bounding box for current region\n",
    "    bounds = bbox_gdf.loc[bbox_gdf.region==r].geometry.bounds\n",
    "    north, south, east, west = bounds.maxy[i], bounds.miny[i], bounds.maxx[i], bounds.minx[i]\n",
    "    \n",
    "    # Create network from that bounding box. Setting network_type='bike' because \n",
    "    # we want on- and off-road bike paths.\n",
    "    G = ox.graph_from_bbox(north, south, east, west, network_type='bike')\n",
    "    networks.append(G)\n",
    "    \n",
    "    print(f\"Collecting OSMnx node ids within {r}\")\n",
    "    \n",
    "    # Create empty array to store nodes\n",
    "    nodes_list = []\n",
    "    station_ids = []\n",
    "    region_name = []\n",
    "    \n",
    "    # select all nodes in that region\n",
    "    temp_gdf = stations.loc[stations.within(bbox_gdf.loc[i, 'geometry'])].copy()\n",
    "\n",
    "    # loop though all trips, get nearest node and append to array\n",
    "    for j in tqdm(range(len(temp_gdf))):\n",
    "        node = ox.get_nearest_node(G, (temp_gdf.iloc[j]['lat'], temp_gdf.iloc[j]['lon']))\n",
    "        nodes_list.append(node)\n",
    "        station_ids.append(temp_gdf.iloc[j]['station_id'])\n",
    "        region_name.append(r)\n",
    "\n",
    "    # create dataframe with nearest nodes\n",
    "    temp_df = pd.DataFrame({'station_id': station_ids,\n",
    "                            'ox_node': nodes_list,\n",
    "                            'region': region_name}) \n",
    "    nodes_df = nodes_df.append(temp_df)"
   ]
  },
  {
   "cell_type": "code",
   "execution_count": 33,
   "metadata": {},
   "outputs": [],
   "source": [
    "# merge nearest nodes df with stations gdf\n",
    "stations = stations.merge(nodes_df, on=\"station_id\", how=\"left\")\n",
    "stations.head()"
   ]
  },
  {
   "cell_type": "code",
   "execution_count": 32,
   "metadata": {},
   "outputs": [],
   "source": [
    "# stations.merge(temp_df, on=\"station_id\", how=\"left\")"
   ]
  },
  {
   "cell_type": "code",
   "execution_count": 49,
   "metadata": {},
   "outputs": [
    {
     "data": {
      "text/html": [
       "<div>\n",
       "<style scoped>\n",
       "    .dataframe tbody tr th:only-of-type {\n",
       "        vertical-align: middle;\n",
       "    }\n",
       "\n",
       "    .dataframe tbody tr th {\n",
       "        vertical-align: top;\n",
       "    }\n",
       "\n",
       "    .dataframe thead th {\n",
       "        text-align: right;\n",
       "    }\n",
       "</style>\n",
       "<table border=\"1\" class=\"dataframe\">\n",
       "  <thead>\n",
       "    <tr style=\"text-align: right;\">\n",
       "      <th></th>\n",
       "      <th>station_id</th>\n",
       "      <th>name</th>\n",
       "      <th>lat</th>\n",
       "      <th>lon</th>\n",
       "      <th>geometry</th>\n",
       "      <th>ox_node</th>\n",
       "      <th>region</th>\n",
       "    </tr>\n",
       "  </thead>\n",
       "  <tbody>\n",
       "    <tr>\n",
       "      <th>0</th>\n",
       "      <td>176.0</td>\n",
       "      <td>MacArthur BART Station</td>\n",
       "      <td>37.828410</td>\n",
       "      <td>-122.266315</td>\n",
       "      <td>POINT (-122.26631 37.82841)</td>\n",
       "      <td>4096114902</td>\n",
       "      <td>East Bay</td>\n",
       "    </tr>\n",
       "    <tr>\n",
       "      <th>1</th>\n",
       "      <td>375.0</td>\n",
       "      <td>Grove St at Masonic Ave</td>\n",
       "      <td>37.774836</td>\n",
       "      <td>-122.446546</td>\n",
       "      <td>POINT (-122.44655 37.77484)</td>\n",
       "      <td>65356407</td>\n",
       "      <td>San Francisco</td>\n",
       "    </tr>\n",
       "    <tr>\n",
       "      <th>2</th>\n",
       "      <td>179.0</td>\n",
       "      <td>Telegraph Ave at 27th St</td>\n",
       "      <td>37.816073</td>\n",
       "      <td>-122.267886</td>\n",
       "      <td>POINT (-122.26789 37.81607)</td>\n",
       "      <td>283261632</td>\n",
       "      <td>East Bay</td>\n",
       "    </tr>\n",
       "    <tr>\n",
       "      <th>3</th>\n",
       "      <td>182.0</td>\n",
       "      <td>19th Street BART Station</td>\n",
       "      <td>37.809369</td>\n",
       "      <td>-122.267951</td>\n",
       "      <td>POINT (-122.26795 37.80937)</td>\n",
       "      <td>2389106017</td>\n",
       "      <td>East Bay</td>\n",
       "    </tr>\n",
       "    <tr>\n",
       "      <th>4</th>\n",
       "      <td>252.0</td>\n",
       "      <td>Channing Way at Shattuck Ave</td>\n",
       "      <td>37.865847</td>\n",
       "      <td>-122.267443</td>\n",
       "      <td>POINT (-122.26744 37.86585)</td>\n",
       "      <td>53063548</td>\n",
       "      <td>East Bay</td>\n",
       "    </tr>\n",
       "  </tbody>\n",
       "</table>\n",
       "</div>"
      ],
      "text/plain": [
       "   station_id                          name        lat         lon  \\\n",
       "0       176.0        MacArthur BART Station  37.828410 -122.266315   \n",
       "1       375.0       Grove St at Masonic Ave  37.774836 -122.446546   \n",
       "2       179.0      Telegraph Ave at 27th St  37.816073 -122.267886   \n",
       "3       182.0      19th Street BART Station  37.809369 -122.267951   \n",
       "4       252.0  Channing Way at Shattuck Ave  37.865847 -122.267443   \n",
       "\n",
       "                      geometry     ox_node         region  \n",
       "0  POINT (-122.26631 37.82841)  4096114902       East Bay  \n",
       "1  POINT (-122.44655 37.77484)    65356407  San Francisco  \n",
       "2  POINT (-122.26789 37.81607)   283261632       East Bay  \n",
       "3  POINT (-122.26795 37.80937)  2389106017       East Bay  \n",
       "4  POINT (-122.26744 37.86585)    53063548       East Bay  "
      ]
     },
     "execution_count": 49,
     "metadata": {},
     "output_type": "execute_result"
    }
   ],
   "source": [
    "stations.head()"
   ]
  },
  {
   "cell_type": "code",
   "execution_count": 40,
   "metadata": {},
   "outputs": [
    {
     "name": "stdout",
     "output_type": "stream",
     "text": [
      "438\n",
      "128\n",
      "228\n",
      "82\n"
     ]
    }
   ],
   "source": [
    "print(len(stations))\n",
    "print(len(stations[stations.region==\"East Bay\"].ox_node))\n",
    "print(len(stations[stations.region==\"San Francisco\"].ox_node))\n",
    "print(len(stations[stations.region==\"San Jose\"].ox_node))"
   ]
  },
  {
   "cell_type": "code",
   "execution_count": 47,
   "metadata": {},
   "outputs": [
    {
     "data": {
      "text/plain": [
       "array(['East Bay', 'San Francisco', 'San Jose'], dtype=object)"
      ]
     },
     "execution_count": 47,
     "metadata": {},
     "output_type": "execute_result"
    }
   ],
   "source": [
    "stations.region.unique()"
   ]
  },
  {
   "cell_type": "code",
   "execution_count": 48,
   "metadata": {},
   "outputs": [
    {
     "data": {
      "text/html": [
       "<div>\n",
       "<style scoped>\n",
       "    .dataframe tbody tr th:only-of-type {\n",
       "        vertical-align: middle;\n",
       "    }\n",
       "\n",
       "    .dataframe tbody tr th {\n",
       "        vertical-align: top;\n",
       "    }\n",
       "\n",
       "    .dataframe thead th {\n",
       "        text-align: right;\n",
       "    }\n",
       "</style>\n",
       "<table border=\"1\" class=\"dataframe\">\n",
       "  <thead>\n",
       "    <tr style=\"text-align: right;\">\n",
       "      <th></th>\n",
       "      <th>start_station_id</th>\n",
       "      <th>end_station_id</th>\n",
       "      <th>count</th>\n",
       "      <th>start_station_latitude</th>\n",
       "      <th>start_station_longitude</th>\n",
       "      <th>end_station_latitude</th>\n",
       "      <th>end_station_longitude</th>\n",
       "    </tr>\n",
       "  </thead>\n",
       "  <tbody>\n",
       "    <tr>\n",
       "      <th>1</th>\n",
       "      <td>3.0</td>\n",
       "      <td>4.0</td>\n",
       "      <td>5</td>\n",
       "      <td>37.786375</td>\n",
       "      <td>-122.404904</td>\n",
       "      <td>37.785881</td>\n",
       "      <td>-122.408915</td>\n",
       "    </tr>\n",
       "    <tr>\n",
       "      <th>2</th>\n",
       "      <td>3.0</td>\n",
       "      <td>5.0</td>\n",
       "      <td>27</td>\n",
       "      <td>37.786375</td>\n",
       "      <td>-122.404904</td>\n",
       "      <td>37.783899</td>\n",
       "      <td>-122.408445</td>\n",
       "    </tr>\n",
       "    <tr>\n",
       "      <th>3</th>\n",
       "      <td>3.0</td>\n",
       "      <td>6.0</td>\n",
       "      <td>13</td>\n",
       "      <td>37.786375</td>\n",
       "      <td>-122.404904</td>\n",
       "      <td>37.804770</td>\n",
       "      <td>-122.403234</td>\n",
       "    </tr>\n",
       "    <tr>\n",
       "      <th>4</th>\n",
       "      <td>3.0</td>\n",
       "      <td>8.0</td>\n",
       "      <td>6</td>\n",
       "      <td>37.786375</td>\n",
       "      <td>-122.404904</td>\n",
       "      <td>37.799953</td>\n",
       "      <td>-122.398525</td>\n",
       "    </tr>\n",
       "    <tr>\n",
       "      <th>5</th>\n",
       "      <td>3.0</td>\n",
       "      <td>9.0</td>\n",
       "      <td>3</td>\n",
       "      <td>37.786375</td>\n",
       "      <td>-122.404904</td>\n",
       "      <td>37.798572</td>\n",
       "      <td>-122.400869</td>\n",
       "    </tr>\n",
       "    <tr>\n",
       "      <th>...</th>\n",
       "      <td>...</td>\n",
       "      <td>...</td>\n",
       "      <td>...</td>\n",
       "      <td>...</td>\n",
       "      <td>...</td>\n",
       "      <td>...</td>\n",
       "      <td>...</td>\n",
       "    </tr>\n",
       "    <tr>\n",
       "      <th>24400</th>\n",
       "      <td>512.0</td>\n",
       "      <td>6.0</td>\n",
       "      <td>1</td>\n",
       "      <td>37.789688</td>\n",
       "      <td>-122.440688</td>\n",
       "      <td>37.804770</td>\n",
       "      <td>-122.403234</td>\n",
       "    </tr>\n",
       "    <tr>\n",
       "      <th>24401</th>\n",
       "      <td>512.0</td>\n",
       "      <td>31.0</td>\n",
       "      <td>1</td>\n",
       "      <td>37.789688</td>\n",
       "      <td>-122.440688</td>\n",
       "      <td>37.783813</td>\n",
       "      <td>-122.434559</td>\n",
       "    </tr>\n",
       "    <tr>\n",
       "      <th>24402</th>\n",
       "      <td>512.0</td>\n",
       "      <td>43.0</td>\n",
       "      <td>1</td>\n",
       "      <td>37.789688</td>\n",
       "      <td>-122.440688</td>\n",
       "      <td>37.778768</td>\n",
       "      <td>-122.415929</td>\n",
       "    </tr>\n",
       "    <tr>\n",
       "      <th>24403</th>\n",
       "      <td>512.0</td>\n",
       "      <td>53.0</td>\n",
       "      <td>2</td>\n",
       "      <td>37.789688</td>\n",
       "      <td>-122.440688</td>\n",
       "      <td>37.775946</td>\n",
       "      <td>-122.437777</td>\n",
       "    </tr>\n",
       "    <tr>\n",
       "      <th>24404</th>\n",
       "      <td>512.0</td>\n",
       "      <td>439.0</td>\n",
       "      <td>1</td>\n",
       "      <td>37.789688</td>\n",
       "      <td>-122.440688</td>\n",
       "      <td>37.784372</td>\n",
       "      <td>-122.439478</td>\n",
       "    </tr>\n",
       "  </tbody>\n",
       "</table>\n",
       "<p>23994 rows × 7 columns</p>\n",
       "</div>"
      ],
      "text/plain": [
       "       start_station_id  end_station_id  count  start_station_latitude  \\\n",
       "1                   3.0             4.0      5               37.786375   \n",
       "2                   3.0             5.0     27               37.786375   \n",
       "3                   3.0             6.0     13               37.786375   \n",
       "4                   3.0             8.0      6               37.786375   \n",
       "5                   3.0             9.0      3               37.786375   \n",
       "...                 ...             ...    ...                     ...   \n",
       "24400             512.0             6.0      1               37.789688   \n",
       "24401             512.0            31.0      1               37.789688   \n",
       "24402             512.0            43.0      1               37.789688   \n",
       "24403             512.0            53.0      2               37.789688   \n",
       "24404             512.0           439.0      1               37.789688   \n",
       "\n",
       "       start_station_longitude  end_station_latitude  end_station_longitude  \n",
       "1                  -122.404904             37.785881            -122.408915  \n",
       "2                  -122.404904             37.783899            -122.408445  \n",
       "3                  -122.404904             37.804770            -122.403234  \n",
       "4                  -122.404904             37.799953            -122.398525  \n",
       "5                  -122.404904             37.798572            -122.400869  \n",
       "...                        ...                   ...                    ...  \n",
       "24400              -122.440688             37.804770            -122.403234  \n",
       "24401              -122.440688             37.783813            -122.434559  \n",
       "24402              -122.440688             37.778768            -122.415929  \n",
       "24403              -122.440688             37.775946            -122.437777  \n",
       "24404              -122.440688             37.784372            -122.439478  \n",
       "\n",
       "[23994 rows x 7 columns]"
      ]
     },
     "execution_count": 48,
     "metadata": {},
     "output_type": "execute_result"
    }
   ],
   "source": [
    "trips_agg"
   ]
  },
  {
   "cell_type": "code",
   "execution_count": 51,
   "metadata": {},
   "outputs": [],
   "source": [
    "# add start station ox_node and region to trips df\n",
    "trips_agg = trips_agg.merge(stations[['station_id', 'ox_node', 'region']], \n",
    "                            left_on=\"start_station_id\", \n",
    "                            right_on=\"station_id\",\n",
    "                            how=\"left\")\n",
    "trips_agg.drop(columns=['station_id'], inplace=True)\n",
    "trips_agg.rename(columns={'ox_node': 'start_node', 'region': 'start_region'}, inplace=True)\n",
    "\n",
    "# add end station ox_node and region to trips df\n",
    "trips_agg = trips_agg.merge(stations[['station_id', 'ox_node', 'region']], \n",
    "                            left_on=\"end_station_id\", \n",
    "                            right_on=\"station_id\")\n",
    "trips_agg.drop(columns=['station_id'], inplace=True)\n",
    "trips_agg.rename(columns={'ox_node': 'end_node', 'region': 'end_region'}, inplace=True)"
   ]
  },
  {
   "cell_type": "code",
   "execution_count": 52,
   "metadata": {},
   "outputs": [
    {
     "data": {
      "text/html": [
       "<div>\n",
       "<style scoped>\n",
       "    .dataframe tbody tr th:only-of-type {\n",
       "        vertical-align: middle;\n",
       "    }\n",
       "\n",
       "    .dataframe tbody tr th {\n",
       "        vertical-align: top;\n",
       "    }\n",
       "\n",
       "    .dataframe thead th {\n",
       "        text-align: right;\n",
       "    }\n",
       "</style>\n",
       "<table border=\"1\" class=\"dataframe\">\n",
       "  <thead>\n",
       "    <tr style=\"text-align: right;\">\n",
       "      <th></th>\n",
       "      <th>start_station_id</th>\n",
       "      <th>end_station_id</th>\n",
       "      <th>count</th>\n",
       "      <th>start_station_latitude</th>\n",
       "      <th>start_station_longitude</th>\n",
       "      <th>end_station_latitude</th>\n",
       "      <th>end_station_longitude</th>\n",
       "      <th>start_node</th>\n",
       "      <th>start_region</th>\n",
       "      <th>end_node</th>\n",
       "      <th>end_region</th>\n",
       "    </tr>\n",
       "  </thead>\n",
       "  <tbody>\n",
       "    <tr>\n",
       "      <th>0</th>\n",
       "      <td>3.0</td>\n",
       "      <td>4.0</td>\n",
       "      <td>5</td>\n",
       "      <td>37.786375</td>\n",
       "      <td>-122.404904</td>\n",
       "      <td>37.785881</td>\n",
       "      <td>-122.408915</td>\n",
       "      <td>6489941287</td>\n",
       "      <td>San Francisco</td>\n",
       "      <td>65313138</td>\n",
       "      <td>San Francisco</td>\n",
       "    </tr>\n",
       "    <tr>\n",
       "      <th>1</th>\n",
       "      <td>5.0</td>\n",
       "      <td>4.0</td>\n",
       "      <td>2</td>\n",
       "      <td>37.783899</td>\n",
       "      <td>-122.408445</td>\n",
       "      <td>37.785881</td>\n",
       "      <td>-122.408915</td>\n",
       "      <td>1723739163</td>\n",
       "      <td>San Francisco</td>\n",
       "      <td>65313138</td>\n",
       "      <td>San Francisco</td>\n",
       "    </tr>\n",
       "    <tr>\n",
       "      <th>2</th>\n",
       "      <td>6.0</td>\n",
       "      <td>4.0</td>\n",
       "      <td>2</td>\n",
       "      <td>37.804770</td>\n",
       "      <td>-122.403234</td>\n",
       "      <td>37.785881</td>\n",
       "      <td>-122.408915</td>\n",
       "      <td>33241803</td>\n",
       "      <td>San Francisco</td>\n",
       "      <td>65313138</td>\n",
       "      <td>San Francisco</td>\n",
       "    </tr>\n",
       "    <tr>\n",
       "      <th>3</th>\n",
       "      <td>10.0</td>\n",
       "      <td>4.0</td>\n",
       "      <td>1</td>\n",
       "      <td>37.795393</td>\n",
       "      <td>-122.404770</td>\n",
       "      <td>37.785881</td>\n",
       "      <td>-122.408915</td>\n",
       "      <td>65374771</td>\n",
       "      <td>San Francisco</td>\n",
       "      <td>65313138</td>\n",
       "      <td>San Francisco</td>\n",
       "    </tr>\n",
       "    <tr>\n",
       "      <th>4</th>\n",
       "      <td>11.0</td>\n",
       "      <td>4.0</td>\n",
       "      <td>3</td>\n",
       "      <td>37.797280</td>\n",
       "      <td>-122.398436</td>\n",
       "      <td>37.785881</td>\n",
       "      <td>-122.408915</td>\n",
       "      <td>65328969</td>\n",
       "      <td>San Francisco</td>\n",
       "      <td>65313138</td>\n",
       "      <td>San Francisco</td>\n",
       "    </tr>\n",
       "  </tbody>\n",
       "</table>\n",
       "</div>"
      ],
      "text/plain": [
       "   start_station_id  end_station_id  count  start_station_latitude  \\\n",
       "0               3.0             4.0      5               37.786375   \n",
       "1               5.0             4.0      2               37.783899   \n",
       "2               6.0             4.0      2               37.804770   \n",
       "3              10.0             4.0      1               37.795393   \n",
       "4              11.0             4.0      3               37.797280   \n",
       "\n",
       "   start_station_longitude  end_station_latitude  end_station_longitude  \\\n",
       "0              -122.404904             37.785881            -122.408915   \n",
       "1              -122.408445             37.785881            -122.408915   \n",
       "2              -122.403234             37.785881            -122.408915   \n",
       "3              -122.404770             37.785881            -122.408915   \n",
       "4              -122.398436             37.785881            -122.408915   \n",
       "\n",
       "   start_node   start_region  end_node     end_region  \n",
       "0  6489941287  San Francisco  65313138  San Francisco  \n",
       "1  1723739163  San Francisco  65313138  San Francisco  \n",
       "2    33241803  San Francisco  65313138  San Francisco  \n",
       "3    65374771  San Francisco  65313138  San Francisco  \n",
       "4    65328969  San Francisco  65313138  San Francisco  "
      ]
     },
     "execution_count": 52,
     "metadata": {},
     "output_type": "execute_result"
    }
   ],
   "source": [
    "trips_agg.head()"
   ]
  },
  {
   "cell_type": "code",
   "execution_count": 58,
   "metadata": {},
   "outputs": [],
   "source": [
    "# Drop all trips that don't start and end in the same region. This could happen only if\n",
    "# the bike rider took the bike on transit or in a car to another region...even if they did manage\n",
    "# to bike from Oakland to San Jose it is not useful for this analysis.\n",
    "trips_agg = trips_agg.loc[trips_agg.start_region==trips_agg.end_region].copy()"
   ]
  },
  {
   "cell_type": "code",
   "execution_count": 63,
   "metadata": {},
   "outputs": [],
   "source": [
    "# create variables for each network\n",
    "G0, G1, G2 = [x for x in networks]\n",
    "del networks\n",
    "\n",
    "# fig, ax = ox.plot_graph(nx.compose(G0, G1))"
   ]
  },
  {
   "cell_type": "code",
   "execution_count": 68,
   "metadata": {},
   "outputs": [],
   "source": [
    "from shapely.geometry import LineString, Point"
   ]
  },
  {
   "cell_type": "code",
   "execution_count": 70,
   "metadata": {},
   "outputs": [],
   "source": [
    "g0_nodes, g0_edges = ox.graph_to_gdfs(G0)\n",
    "g1_nodes, g1_edges = ox.graph_to_gdfs(G1)\n",
    "g2_nodes, g2_edges = ox.graph_to_gdfs(G2)"
   ]
  },
  {
   "cell_type": "code",
   "execution_count": 71,
   "metadata": {},
   "outputs": [
    {
     "name": "stderr",
     "output_type": "stream",
     "text": [
      "100%|████████████████████████████████████████████████████████████████████████████| 24154/24154 [09:52<00:00, 40.78it/s]\n"
     ]
    },
    {
     "ename": "TypeError",
     "evalue": "float() argument must be a string or a number, not 'LineString'",
     "output_type": "error",
     "traceback": [
      "\u001b[1;31m---------------------------------------------------------------------------\u001b[0m",
      "\u001b[1;31mTypeError\u001b[0m                                 Traceback (most recent call last)",
      "\u001b[1;32m<ipython-input-71-a77d04f65d71>\u001b[0m in \u001b[0;36m<module>\u001b[1;34m\u001b[0m\n\u001b[0;32m     26\u001b[0m \u001b[1;31m# paths_df = pd.DataFrame({''})\u001b[0m\u001b[1;33m\u001b[0m\u001b[1;33m\u001b[0m\u001b[1;33m\u001b[0m\u001b[0m\n\u001b[0;32m     27\u001b[0m \u001b[0mtrips_agg\u001b[0m\u001b[1;33m[\u001b[0m\u001b[1;34m'route'\u001b[0m\u001b[1;33m]\u001b[0m \u001b[1;33m=\u001b[0m \u001b[0mnp\u001b[0m\u001b[1;33m.\u001b[0m\u001b[0marray\u001b[0m\u001b[1;33m(\u001b[0m\u001b[0mpaths\u001b[0m\u001b[1;33m)\u001b[0m\u001b[1;33m\u001b[0m\u001b[1;33m\u001b[0m\u001b[0m\n\u001b[1;32m---> 28\u001b[1;33m \u001b[0mtrips_agg\u001b[0m\u001b[1;33m[\u001b[0m\u001b[1;34m'geometry'\u001b[0m\u001b[1;33m]\u001b[0m \u001b[1;33m=\u001b[0m \u001b[0mnp\u001b[0m\u001b[1;33m.\u001b[0m\u001b[0marray\u001b[0m\u001b[1;33m(\u001b[0m\u001b[0mlines\u001b[0m\u001b[1;33m)\u001b[0m\u001b[1;33m\u001b[0m\u001b[1;33m\u001b[0m\u001b[0m\n\u001b[0m",
      "\u001b[1;31mTypeError\u001b[0m: float() argument must be a string or a number, not 'LineString'"
     ]
    }
   ],
   "source": [
    "paths = []\n",
    "lines = []\n",
    "\n",
    "for i in tqdm(range(len(trips_agg))):\n",
    "    origin_node = trips_agg.iloc[i]['start_node']\n",
    "    destination_node = trips_agg.iloc[i]['end_node']\n",
    "    region = trips_agg.iloc[i]['start_region']\n",
    "    if region == \"East Bay\":\n",
    "        route = nx.shortest_path(G0, origin_node, destination_node)\n",
    "        route_nodes = g0_nodes.loc[route]\n",
    "        route_line = LineString(list(route_nodes.geometry.values))\n",
    "    elif region == \"San Francisco\":\n",
    "        route = nx.shortest_path(G1, origin_node, destination_node)\n",
    "        route_nodes = g1_nodes.loc[route]\n",
    "        route_line = LineString(list(route_nodes.geometry.values))\n",
    "    elif region == \"San Jose\":\n",
    "        route = nx.shortest_path(G2, origin_node, destination_node)\n",
    "        route_nodes = g2_nodes.loc[route]\n",
    "        route_line = LineString(list(route_nodes.geometry.values))\n",
    "    else:\n",
    "        route = np.nan\n",
    "        route_line = np.nan\n",
    "    paths.append(route)\n",
    "    lines.append(route_line)\n",
    "\n",
    "# paths_df = pd.DataFrame({''})\n",
    "trips_agg['route'] = np.array(paths)\n",
    "trips_gdf = gpd.GeoDataFrame(trips_agg, crs=crs, geometry=lines)"
   ]
  },
  {
   "cell_type": "code",
   "execution_count": 76,
   "metadata": {},
   "outputs": [
    {
     "data": {
      "text/html": [
       "<div>\n",
       "<style scoped>\n",
       "    .dataframe tbody tr th:only-of-type {\n",
       "        vertical-align: middle;\n",
       "    }\n",
       "\n",
       "    .dataframe tbody tr th {\n",
       "        vertical-align: top;\n",
       "    }\n",
       "\n",
       "    .dataframe thead th {\n",
       "        text-align: right;\n",
       "    }\n",
       "</style>\n",
       "<table border=\"1\" class=\"dataframe\">\n",
       "  <thead>\n",
       "    <tr style=\"text-align: right;\">\n",
       "      <th></th>\n",
       "      <th>start_station_id</th>\n",
       "      <th>end_station_id</th>\n",
       "      <th>count</th>\n",
       "      <th>start_station_latitude</th>\n",
       "      <th>start_station_longitude</th>\n",
       "      <th>end_station_latitude</th>\n",
       "      <th>end_station_longitude</th>\n",
       "      <th>start_node</th>\n",
       "      <th>start_region</th>\n",
       "      <th>end_node</th>\n",
       "      <th>end_region</th>\n",
       "      <th>route</th>\n",
       "      <th>geometry</th>\n",
       "    </tr>\n",
       "  </thead>\n",
       "  <tbody>\n",
       "    <tr>\n",
       "      <th>0</th>\n",
       "      <td>3.0</td>\n",
       "      <td>4.0</td>\n",
       "      <td>5</td>\n",
       "      <td>37.786375</td>\n",
       "      <td>-122.404904</td>\n",
       "      <td>37.785881</td>\n",
       "      <td>-122.408915</td>\n",
       "      <td>6489941287</td>\n",
       "      <td>San Francisco</td>\n",
       "      <td>65313138</td>\n",
       "      <td>San Francisco</td>\n",
       "      <td>[6489941287, 5858516688, 1723738887, 721705712...</td>\n",
       "      <td>LINESTRING (-122.40508 37.78638, -122.40523 37...</td>\n",
       "    </tr>\n",
       "    <tr>\n",
       "      <th>1</th>\n",
       "      <td>5.0</td>\n",
       "      <td>4.0</td>\n",
       "      <td>2</td>\n",
       "      <td>37.783899</td>\n",
       "      <td>-122.408445</td>\n",
       "      <td>37.785881</td>\n",
       "      <td>-122.408915</td>\n",
       "      <td>1723739163</td>\n",
       "      <td>San Francisco</td>\n",
       "      <td>65313138</td>\n",
       "      <td>San Francisco</td>\n",
       "      <td>[1723739163, 65313131, 65313133, 65313138]</td>\n",
       "      <td>LINESTRING (-122.40807 37.78401, -122.40853 37...</td>\n",
       "    </tr>\n",
       "    <tr>\n",
       "      <th>2</th>\n",
       "      <td>6.0</td>\n",
       "      <td>4.0</td>\n",
       "      <td>2</td>\n",
       "      <td>37.804770</td>\n",
       "      <td>-122.403234</td>\n",
       "      <td>37.785881</td>\n",
       "      <td>-122.408915</td>\n",
       "      <td>33241803</td>\n",
       "      <td>San Francisco</td>\n",
       "      <td>65313138</td>\n",
       "      <td>San Francisco</td>\n",
       "      <td>[33241803, 260194262, 280836272, 6250503702, 2...</td>\n",
       "      <td>LINESTRING (-122.40345 37.80504, -122.40228 37...</td>\n",
       "    </tr>\n",
       "    <tr>\n",
       "      <th>3</th>\n",
       "      <td>10.0</td>\n",
       "      <td>4.0</td>\n",
       "      <td>1</td>\n",
       "      <td>37.795393</td>\n",
       "      <td>-122.404770</td>\n",
       "      <td>37.785881</td>\n",
       "      <td>-122.408915</td>\n",
       "      <td>65374771</td>\n",
       "      <td>San Francisco</td>\n",
       "      <td>65313138</td>\n",
       "      <td>San Francisco</td>\n",
       "      <td>[65374771, 4039511684, 65337586, 65336155, 653...</td>\n",
       "      <td>LINESTRING (-122.40497 37.79533, -122.40565 37...</td>\n",
       "    </tr>\n",
       "    <tr>\n",
       "      <th>4</th>\n",
       "      <td>11.0</td>\n",
       "      <td>4.0</td>\n",
       "      <td>3</td>\n",
       "      <td>37.797280</td>\n",
       "      <td>-122.398436</td>\n",
       "      <td>37.785881</td>\n",
       "      <td>-122.408915</td>\n",
       "      <td>65328969</td>\n",
       "      <td>San Francisco</td>\n",
       "      <td>65313138</td>\n",
       "      <td>San Francisco</td>\n",
       "      <td>[65328969, 65372268, 65336941, 65307352, 65307...</td>\n",
       "      <td>LINESTRING (-122.39835 37.79709, -122.39819 37...</td>\n",
       "    </tr>\n",
       "  </tbody>\n",
       "</table>\n",
       "</div>"
      ],
      "text/plain": [
       "   start_station_id  end_station_id  count  start_station_latitude  \\\n",
       "0               3.0             4.0      5               37.786375   \n",
       "1               5.0             4.0      2               37.783899   \n",
       "2               6.0             4.0      2               37.804770   \n",
       "3              10.0             4.0      1               37.795393   \n",
       "4              11.0             4.0      3               37.797280   \n",
       "\n",
       "   start_station_longitude  end_station_latitude  end_station_longitude  \\\n",
       "0              -122.404904             37.785881            -122.408915   \n",
       "1              -122.408445             37.785881            -122.408915   \n",
       "2              -122.403234             37.785881            -122.408915   \n",
       "3              -122.404770             37.785881            -122.408915   \n",
       "4              -122.398436             37.785881            -122.408915   \n",
       "\n",
       "   start_node   start_region  end_node     end_region  \\\n",
       "0  6489941287  San Francisco  65313138  San Francisco   \n",
       "1  1723739163  San Francisco  65313138  San Francisco   \n",
       "2    33241803  San Francisco  65313138  San Francisco   \n",
       "3    65374771  San Francisco  65313138  San Francisco   \n",
       "4    65328969  San Francisco  65313138  San Francisco   \n",
       "\n",
       "                                               route  \\\n",
       "0  [6489941287, 5858516688, 1723738887, 721705712...   \n",
       "1         [1723739163, 65313131, 65313133, 65313138]   \n",
       "2  [33241803, 260194262, 280836272, 6250503702, 2...   \n",
       "3  [65374771, 4039511684, 65337586, 65336155, 653...   \n",
       "4  [65328969, 65372268, 65336941, 65307352, 65307...   \n",
       "\n",
       "                                            geometry  \n",
       "0  LINESTRING (-122.40508 37.78638, -122.40523 37...  \n",
       "1  LINESTRING (-122.40807 37.78401, -122.40853 37...  \n",
       "2  LINESTRING (-122.40345 37.80504, -122.40228 37...  \n",
       "3  LINESTRING (-122.40497 37.79533, -122.40565 37...  \n",
       "4  LINESTRING (-122.39835 37.79709, -122.39819 37...  "
      ]
     },
     "execution_count": 76,
     "metadata": {},
     "output_type": "execute_result"
    }
   ],
   "source": [
    "trips_gdf.head()"
   ]
  },
  {
   "cell_type": "code",
   "execution_count": 81,
   "metadata": {},
   "outputs": [],
   "source": [
    "# save to file\n",
    "trips_gdf.drop(columns=['route']).to_file(driver='GeoJSON', filename=\"../data/BayWheels_Routes_OSMnx.geojson\")"
   ]
  },
  {
   "cell_type": "code",
   "execution_count": 82,
   "metadata": {},
   "outputs": [
    {
     "data": {
      "text/plain": [
       "<matplotlib.axes._subplots.AxesSubplot at 0x2b7053425c8>"
      ]
     },
     "execution_count": 82,
     "metadata": {},
     "output_type": "execute_result"
    },
    {
     "data": {
      "image/png": "[encoded data removed]",
      "text/plain": [
       "<Figure size 432x288 with 1 Axes>"
      ]
     },
     "metadata": {
      "needs_background": "light"
     },
     "output_type": "display_data"
    }
   ],
   "source": [
    "# plot routes\n",
    "trips_gdf.loc[trips_gdf.start_region==\"San Francisco\"].plot()"
   ]
  },
  {
   "cell_type": "code",
   "execution_count": null,
   "metadata": {},
   "outputs": [],
   "source": []
  },
  {
   "cell_type": "code",
   "execution_count": null,
   "metadata": {},
   "outputs": [],
   "source": []
  },
  {
   "cell_type": "code",
   "execution_count": null,
   "metadata": {},
   "outputs": [],
   "source": []
  },
  {
   "cell_type": "code",
   "execution_count": null,
   "metadata": {},
   "outputs": [],
   "source": []
  },
  {
   "cell_type": "code",
   "execution_count": null,
   "metadata": {},
   "outputs": [],
   "source": []
  },
  {
   "cell_type": "code",
   "execution_count": null,
   "metadata": {},
   "outputs": [],
   "source": []
  },
  {
   "cell_type": "markdown",
   "metadata": {},
   "source": [
    "## Testing below:"
   ]
  },
  {
   "cell_type": "code",
   "execution_count": 83,
   "metadata": {},
   "outputs": [],
   "source": [
    "# trips_eb.head()\n",
    "# ox.get_nearest_node(G, (trips_eb.iloc[100]['start_station_latitude'], trips_eb.iloc[100]['start_station_longitude']), )"
   ]
  },
  {
   "cell_type": "code",
   "execution_count": 85,
   "metadata": {},
   "outputs": [],
   "source": [
    "# trips_eb.iloc[0]['start_station_latitude'], trips_eb.iloc[0]['start_station_longitude']"
   ]
  },
  {
   "cell_type": "code",
   "execution_count": 84,
   "metadata": {},
   "outputs": [],
   "source": [
    "# trips_eb['origin_node'] = trips_eb.apply(lambda x: ox.get_nearest_node(G, (x.start_station_latitude, x.start_station_longitude)))"
   ]
  },
  {
   "cell_type": "code",
   "execution_count": 53,
   "metadata": {},
   "outputs": [
    {
     "data": {
      "text/plain": [
       "(53080628, 5486906949)"
      ]
     },
     "execution_count": 53,
     "metadata": {},
     "output_type": "execute_result"
    }
   ],
   "source": [
    "# define origin/desination points then get the nodes nearest to each\n",
    "origin_point = (37.868666, -122.259166) # Bancroft and Telegraph\n",
    "destination_point = (37.851554, -122.252280) # College and Alcatraz\n",
    "origin_node = ox.get_nearest_node(G0, origin_point)\n",
    "destination_node = ox.get_nearest_node(G0, destination_point)\n",
    "origin_node, destination_node"
   ]
  },
  {
   "cell_type": "code",
   "execution_count": 55,
   "metadata": {},
   "outputs": [
    {
     "data": {
      "text/plain": [
       "'[53080628, 394220748, 53006324, 53103804, 53063553, 53041092, 4621435721, 53020976, 275804265, 53082748, 53085618, 53079150, 53111890, 53099277, 5060958939, 53070407, 53103280, 56837383, 53100516, 53037921, 53082594, 53100520, 53100523, 53090686, 3245435930, 3245435929, 53070069, 53090689, 5486906949]'"
      ]
     },
     "execution_count": 55,
     "metadata": {},
     "output_type": "execute_result"
    }
   ],
   "source": [
    "# find the shortest path between origin and destination nodes\n",
    "route = nx.shortest_path(G0, origin_node, destination_node, weight='length')\n",
    "str(route)"
   ]
  },
  {
   "cell_type": "code",
   "execution_count": 95,
   "metadata": {},
   "outputs": [
    {
     "data": {
      "image/png": "[encoded data removed]",
      "text/plain": [
       "<Figure size 291.82x432 with 1 Axes>"
      ]
     },
     "metadata": {},
     "output_type": "display_data"
    }
   ],
   "source": [
    "# plot the route showing origin/destination lat-long points in blue\n",
    "fig, ax = ox.plot_graph_route(G1, route, origin_point=origin_point, destination_point=destination_point)"
   ]
  },
  {
   "cell_type": "code",
   "execution_count": 88,
   "metadata": {},
   "outputs": [],
   "source": [
    "# define a lat-long point, create network around point, define origin/destination nodes\n",
    "location_point = (37.791427, -122.410018)\n",
    "G = ox.graph_from_point(location_point, distance=500, distance_type='network', network_type='bike')"
   ]
  },
  {
   "cell_type": "code",
   "execution_count": 89,
   "metadata": {},
   "outputs": [
    {
     "data": {
      "text/plain": [
       "(65343969, 65290756)"
      ]
     },
     "execution_count": 89,
     "metadata": {},
     "output_type": "execute_result"
    }
   ],
   "source": [
    "# define origin/desination points then get the nodes nearest to each\n",
    "origin_point = (37.792896, -122.412325)\n",
    "destination_point = (37.790495, -122.408353)\n",
    "origin_node = ox.get_nearest_node(G, origin_point)\n",
    "destination_node = ox.get_nearest_node(G, destination_point)\n",
    "origin_node, destination_node"
   ]
  },
  {
   "cell_type": "code",
   "execution_count": 90,
   "metadata": {},
   "outputs": [
    {
     "data": {
      "text/plain": [
       "'[65343969, 65307397, 65295324, 65295320, 65295314, 7332987498, 7332987493, 6319217963, 6319217961, 6319217960, 65319944, 6319217971, 65290756]'"
      ]
     },
     "execution_count": 90,
     "metadata": {},
     "output_type": "execute_result"
    }
   ],
   "source": [
    "# find the shortest path between origin and destination nodes\n",
    "route = nx.shortest_path(G, origin_node, destination_node, weight='length')\n",
    "str(route)"
   ]
  },
  {
   "cell_type": "code",
   "execution_count": 91,
   "metadata": {
    "scrolled": false
   },
   "outputs": [
    {
     "data": {
      "image/png": "[encoded data removed]",
      "text/plain": [
       "<Figure size 568.403x432 with 1 Axes>"
      ]
     },
     "metadata": {},
     "output_type": "display_data"
    }
   ],
   "source": [
    "# plot the route showing origin/destination lat-long points in blue\n",
    "fig, ax = ox.plot_graph_route(G, route, origin_point=origin_point, destination_point=destination_point)"
   ]
  },
  {
   "cell_type": "markdown",
   "metadata": {},
   "source": [
    "## How to save to .html file...don't delete yet"
   ]
  },
  {
   "cell_type": "code",
   "execution_count": 103,
   "metadata": {},
   "outputs": [],
   "source": [
    "from IPython.display import IFrame"
   ]
  },
  {
   "cell_type": "code",
   "execution_count": 167,
   "metadata": {},
   "outputs": [],
   "source": [
    "# download the street network for Piedmont, CA\n",
    "G = ox.graph_from_place('Berkeley, California, USA', network_type='bike', retain_all='False', simplify=True)"
   ]
  },
  {
   "cell_type": "code",
   "execution_count": 164,
   "metadata": {},
   "outputs": [],
   "source": [
    "G?"
   ]
  },
  {
   "cell_type": "code",
   "execution_count": 129,
   "metadata": {},
   "outputs": [],
   "source": [
    "# plot the street network with folium\n",
    "graph_map = ox.plot_graph_folium(G, popup_attribute='name', edge_width=2)"
   ]
  },
  {
   "cell_type": "code",
   "execution_count": 130,
   "metadata": {},
   "outputs": [],
   "source": [
    "# save as html file then display map as an iframe\n",
    "filepath = '../data/graph.html'\n",
    "graph_map.save(filepath)\n",
    "# IFrame(filepath, width=600, height=500)"
   ]
  },
  {
   "cell_type": "code",
   "execution_count": 220,
   "metadata": {},
   "outputs": [],
   "source": [
    "# use networkx to calculate the shortest path between two nodes\n",
    "origin_point = (37.868719, -122.259174)\n",
    "origin_node = ox.get_nearest_node(G, origin_point)\n",
    "destination_point = (37.851623, -122.252217)\n",
    "destination_node = ox.get_nearest_node(G, destination_point)\n",
    "# origin_node = list(G.nodes())[0]\n",
    "# destination_node = list(G.nodes())[-1]\n",
    "route = nx.shortest_path(G, origin_node, destination_node, weight=\"length\")"
   ]
  },
  {
   "cell_type": "code",
   "execution_count": 221,
   "metadata": {},
   "outputs": [
    {
     "name": "stdout",
     "output_type": "stream",
     "text": [
      "(37.868719, -122.259174) (37.851623, -122.252217)\n",
      "53080628 5486906949\n",
      "[53080628, 53099275, 53063555, 53041093, 53020977, 53020979, 4631429373, 5484497299, 53070406, 53070407, 2415284475, 56837380, 4551722985, 53037916, 53037919, 53082593, 53103284, 283272945, 283272947, 53100523, 53099164, 53090689, 5486906949]\n"
     ]
    }
   ],
   "source": [
    "print(origin_point, destination_point)\n",
    "print(origin_node, destination_node)\n",
    "print(route)"
   ]
  },
  {
   "cell_type": "code",
   "execution_count": 222,
   "metadata": {},
   "outputs": [],
   "source": [
    "# plot the route with folium\n",
    "# route_map = ox.plot_route_folium(G, route)\n",
    "\n",
    "# plot the route with folium on top of the previously created graph_map\n",
    "route_graph_map = ox.plot_route_folium(G, route, route_map=graph_map, popup_attribute='length')"
   ]
  },
  {
   "cell_type": "code",
   "execution_count": 223,
   "metadata": {
    "collapsed": true
   },
   "outputs": [
    {
     "data": {
      "text/html": [
       "\n",
       "        <iframe\n",
       "            width=\"600\"\n",
       "            height=\"500\"\n",
       "            src=\"../data/route_graph.html\"\n",
       "            frameborder=\"0\"\n",
       "            allowfullscreen\n",
       "        ></iframe>\n",
       "        "
      ],
      "text/plain": [
       "<IPython.lib.display.IFrame at 0x196bcb04108>"
      ]
     },
     "execution_count": 223,
     "metadata": {},
     "output_type": "execute_result"
    }
   ],
   "source": [
    "# save as html file then display map as an iframe\n",
    "filepath = '../data/route_graph.html'\n",
    "route_graph_map.save(filepath)\n",
    "IFrame(filepath, width=600, height=500)"
   ]
  },
  {
   "cell_type": "code",
   "execution_count": 214,
   "metadata": {},
   "outputs": [
    {
     "data": {
      "text/plain": [
       "(348192780, 0.04533549020388037)"
      ]
     },
     "execution_count": 214,
     "metadata": {},
     "output_type": "execute_result"
    }
   ],
   "source": [
    "point2 = (37.790495, -122.408353)\n",
    "point2 = (37.888433, -122.272654)\n",
    "ox.get_nearest_node(G, point2, return_dist=True)"
   ]
  },
  {
   "cell_type": "code",
   "execution_count": 228,
   "metadata": {},
   "outputs": [
    {
     "name": "stdout",
     "output_type": "stream",
     "text": [
      "LINESTRING (-122.2591864 37.8687053, -122.2590046 37.8678138, -122.258817 37.8669135, -122.2586383 37.8660287, -122.2584543 37.8651268, -122.2578102 37.8652096, -122.2577527 37.8646457, -122.257711 37.8642071, -122.2576343 37.8633691, -122.2574514 37.861562, -122.2573647 37.8615673, -122.2570972 37.8604184, -122.257095 37.860393, -122.2570407 37.8597622, -122.2558087 37.859843, -122.2556922 37.8581643, -122.2555109 37.8567252, -122.2550331 37.8558607, -122.2549659 37.8558232, -122.2540224 37.855943, -122.2537792 37.8537702, -122.2527488 37.8539022, -122.2525226 37.851636)\n"
     ]
    },
    {
     "data": {
      "image/svg+xml": [
       "<svg xmlns=\"http://www.w3.org/2000/svg\" xmlns:xlink=\"http://www.w3.org/1999/xlink\" width=\"100.0\" height=\"100.0\" viewBox=\"-122.25986917200001 37.850953228 0.008029344000007654 0.018434843999997952\" preserveAspectRatio=\"xMinYMin meet\"><g transform=\"matrix(1,0,0,-1,0,75.7203413)\"><polyline fill=\"none\" stroke=\"#66cc99\" stroke-width=\"0.00036869687999995903\" points=\"-122.2591864,37.8687053 -122.2590046,37.8678138 -122.258817,37.8669135 -122.2586383,37.8660287 -122.2584543,37.8651268 -122.2578102,37.8652096 -122.2577527,37.8646457 -122.257711,37.8642071 -122.2576343,37.8633691 -122.2574514,37.861562 -122.2573647,37.8615673 -122.2570972,37.8604184 -122.257095,37.860393 -122.2570407,37.8597622 -122.2558087,37.859843 -122.2556922,37.8581643 -122.2555109,37.8567252 -122.2550331,37.8558607 -122.2549659,37.8558232 -122.2540224,37.855943 -122.2537792,37.8537702 -122.2527488,37.8539022 -122.2525226,37.851636\" opacity=\"0.8\" /></g></svg>"
      ],
      "text/plain": [
       "<shapely.geometry.linestring.LineString at 0x196ec0507c8>"
      ]
     },
     "execution_count": 228,
     "metadata": {},
     "output_type": "execute_result"
    }
   ],
   "source": [
    "# https://automating-gis-processes.github.io/2017/lessons/L7/network-analysis.html\n",
    "from shapely.geometry import LineString, Point\n",
    "\n",
    "gdf_nodes, gdf_edges = ox.graph_to_gdfs(G)\n",
    "# path = nx.shortest_path(G, list(G.nodes())[0], list(G.nodes())[1])\n",
    "route_nodes = gdf_nodes.loc[route]\n",
    "\n",
    "route_line = LineString(list(route_nodes.geometry.values))\n",
    "print(route_line)\n",
    "route_line\n",
    "\n",
    "# DONT DELETE CELL THIS MAY BE USEFUL!"
   ]
  },
  {
   "cell_type": "code",
   "execution_count": 218,
   "metadata": {},
   "outputs": [
    {
     "name": "stdout",
     "output_type": "stream",
     "text": [
      "37.8463312 37.9046164\n",
      "-122.3195267 -122.2359026\n"
     ]
    }
   ],
   "source": [
    "print(gdf_nodes.y.min(), gdf_nodes.y.max())\n",
    "print(gdf_nodes.x.min(), gdf_nodes.x.max())"
   ]
  },
  {
   "cell_type": "code",
   "execution_count": null,
   "metadata": {},
   "outputs": [],
   "source": []
  }
 ],
 "metadata": {
  "kernelspec": {
   "display_name": "Python 3",
   "language": "python",
   "name": "python3"
  },
  "language_info": {
   "codemirror_mode": {
    "name": "ipython",
    "version": 3
   },
   "file_extension": ".py",
   "mimetype": "text/x-python",
   "name": "python",
   "nbconvert_exporter": "python",
   "pygments_lexer": "ipython3",
   "version": "3.7.6"
  }
 },
 "nbformat": 4,
 "nbformat_minor": 4
}
